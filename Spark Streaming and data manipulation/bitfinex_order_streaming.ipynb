{
  "nbformat": 4,
  "nbformat_minor": 0,
  "metadata": {
    "colab": {
      "name": "Bitfinex_order_streaming.ipynb",
      "provenance": [],
      "collapsed_sections": []
    },
    "kernelspec": {
      "name": "python3",
      "display_name": "Python 3"
    }
  },
  "cells": [
    {
      "cell_type": "code",
      "metadata": {
        "id": "O8tgSyfH0kSH"
      },
      "source": [
        "# innstall java\n",
        "!apt-get install openjdk-8-jdk-headless -qq > /dev/null\n",
        " \n",
        "# install spark (change the version number if needed)\n",
        "!wget -q https://archive.apache.org/dist/spark/spark-3.0.0/spark-3.0.0-bin-hadoop3.2.tgz\n",
        " \n",
        "# unzip the spark file to the current folder\n",
        "!tar xf spark-3.0.0-bin-hadoop3.2.tgz\n",
        " \n",
        "# set your spark folder to your system path environment. \n",
        "import os\n",
        "os.environ[\"JAVA_HOME\"] = \"/usr/lib/jvm/java-8-openjdk-amd64\"\n",
        "os.environ[\"SPARK_HOME\"] = \"/content/spark-3.0.0-bin-hadoop3.2\"\n",
        " \n",
        "\n",
        "# install findspark using pip\n",
        "!pip install -q findspark"
      ],
      "execution_count": 1,
      "outputs": []
    },
    {
      "cell_type": "code",
      "metadata": {
        "id": "_OSwU6t9qb_s"
      },
      "source": [
        "import numpy as np\r\n",
        "import pandas as pd"
      ],
      "execution_count": 2,
      "outputs": []
    },
    {
      "cell_type": "code",
      "metadata": {
        "colab": {
          "base_uri": "https://localhost:8080/"
        },
        "id": "LBMcC8MJqmJ9",
        "outputId": "c082b4af-5fa9-430c-e34e-53c202b76935"
      },
      "source": [
        "bitfinex = np.load('/content/bitfinex_order_array.npy', allow_pickle=True)\r\n",
        "bitfinex"
      ],
      "execution_count": 3,
      "outputs": [
        {
          "output_type": "execute_result",
          "data": {
            "text/plain": [
              "array([{'orders': [[0.02701, 4, 19.63549352], [0.027, 4, 17.11867786], [0.02699, 3, 20.36402743], [0.02698, 2, 21.7853], [0.02697, 4, 43.29962648], [0.02696, 2, 7.45266557], [0.02695, 2, 4.90705179], [0.02694, 1, 5.6], [0.02693, 2, 42.37741964], [0.02692, 9, 13.4953], [0.02691, 11, 5.12], [0.0269, 12, 35.05647142], [0.02689, 12, 212.75016655], [0.02688, 14, 77.89796794], [0.02687, 13, 70.1598365], [0.02686, 12, 7.3613234], [0.02685, 13, 85.37315135], [0.02684, 11, 0.18682799], [0.02683, 13, 38.6210026], [0.02682, 11, 0.13620594], [0.02681, 11, 0.55056785], [0.0268, 12, 72.507], [0.02679, 11, 19.40053639], [0.02678, 12, 182.70556509], [0.02677, 10, 0.12], [0.02704, 6, -0.036], [0.02705, 11, -1.366348], [0.02706, 15, -12.38197914], [0.02707, 15, -37.09897034], [0.02708, 13, -13.14305331], [0.02709, 12, -27.79927846], [0.0271, 12, -22.84846225], [0.02711, 11, -25.06], [0.02712, 13, -60.23560576], [0.02713, 12, -34.309], [0.02714, 10, -0.06], [0.02715, 13, -53.70194438], [0.02716, 13, -69.01684739], [0.02717, 11, -28.30514313], [0.02718, 11, -58.06], [0.02719, 15, -291.21027065], [0.0272, 12, -56.4787544], [0.02721, 13, -60.42591836], [0.02722, 12, -76.5352188], [0.02723, 10, -0.06], [0.02724, 10, -0.06], [0.02725, 11, -50.67534105], [0.02726, 10, -0.06], [0.02727, 11, -0.07553159], [0.02728, 11, -92.838]], 'time': 1609195953321},\n",
              "       {'orders': [[0.02701, 4, 19.63549352], [0.027, 4, 17.11867786], [0.02699, 3, 20.36402743], [0.02698, 2, 21.7853], [0.02697, 4, 43.29962648], [0.02696, 2, 7.45266557], [0.02695, 2, 4.90705179], [0.02694, 1, 5.6], [0.02693, 2, 42.37741964], [0.02692, 9, 13.4953], [0.02691, 11, 5.12], [0.0269, 12, 35.05647142], [0.02689, 12, 212.75016655], [0.02688, 14, 77.89796794], [0.02687, 13, 70.1598365], [0.02686, 12, 7.3613234], [0.02685, 13, 85.37315135], [0.02684, 11, 0.18682799], [0.02683, 13, 38.6210026], [0.02682, 11, 0.13620594], [0.02681, 11, 0.55056785], [0.0268, 12, 72.507], [0.02679, 11, 19.40053639], [0.02678, 12, 182.70556509], [0.02677, 10, 0.12], [0.02704, 6, -0.036], [0.02705, 11, -1.366348], [0.02706, 15, -12.38197914], [0.02707, 15, -37.09897034], [0.02708, 13, -13.14305331], [0.02709, 12, -27.79927846], [0.0271, 12, -22.84846225], [0.02711, 11, -25.06], [0.02712, 13, -60.23560576], [0.02713, 12, -34.309], [0.02714, 10, -0.06], [0.02715, 13, -53.70194438], [0.02716, 13, -69.01684739], [0.02717, 11, -28.30514313], [0.02718, 11, -58.06], [0.02719, 15, -291.21027065], [0.0272, 12, -56.4787544], [0.02721, 13, -60.42591836], [0.02722, 12, -76.5352188], [0.02723, 10, -0.06], [0.02724, 10, -0.06], [0.02725, 11, -50.67534105], [0.02726, 10, -0.06], [0.02727, 11, -0.07553159], [0.02728, 11, -92.838]], 'time': 1609195954768},\n",
              "       {'orders': [[0.02702, 6, 26.63046032], [0.02701, 6, 24.14553543], [0.027, 3, 34.2675], [0.02699, 1, 7.39364277], [0.02697, 3, 3.60288343], [0.02696, 4, 8.65556494], [0.02694, 3, 54.90044279], [0.02692, 10, 22.23774256], [0.02691, 12, 18.20149666], [0.0269, 12, 28.971], [0.02689, 13, 255.96316655], [0.02688, 13, 32.01927202], [0.02687, 12, 64.2598365], [0.02686, 11, 0.3613234], [0.02685, 13, 85.37315135], [0.02684, 13, 21.18682799], [0.02683, 11, 17.6210026], [0.02682, 12, 71.59120594], [0.02681, 12, 41.4377341], [0.0268, 11, 0.42], [0.02679, 12, 44.40053639], [0.02678, 12, 182.70556509], [0.02677, 10, 0.12], [0.02676, 11, 0.55056785], [0.02675, 11, 92.633], [0.02704, 6, -0.036], [0.02705, 10, -0.06], [0.02706, 10, -0.06], [0.02707, 13, -8.68059069], [0.02708, 17, -38.91426215], [0.02709, 11, -3.20078582], [0.0271, 12, -15.15197771], [0.02711, 14, -62.58361598], [0.02712, 10, -0.06], [0.02713, 14, -84.46637653], [0.02714, 10, -0.06], [0.02715, 12, -34.997], [0.02716, 13, -67.63245744], [0.02717, 11, -28.30514313], [0.02718, 12, -78.22920277], [0.02719, 15, -291.20836109], [0.0272, 12, -56.4787544], [0.02721, 13, -60.42591836], [0.02722, 12, -76.5352188], [0.02723, 10, -0.06], [0.02724, 10, -0.06], [0.02725, 10, -0.06], [0.02726, 11, -0.07553159], [0.02727, 10, -0.06], [0.02728, 12, -144.49256374]], 'time': 1609195956195},\n",
              "       ...,\n",
              "       {'orders': [[0.0273, 1, 0.52137962], [0.02729, 17, 6.45875153], [0.02728, 19, 25.76802453], [0.02727, 14, 18.37224937], [0.02726, 16, 52.78847183], [0.02725, 13, 24.23281634], [0.02724, 14, 74.2547873], [0.02723, 12, 17.97008334], [0.02722, 12, 30.26289353], [0.02721, 14, 227.0217444], [0.0272, 13, 69.18488193], [0.02719, 11, 25.06], [0.02718, 12, 86.25956536], [0.02717, 12, 12.96], [0.02716, 11, 0.79203763], [0.02715, 12, 87.90129484], [0.02714, 11, 72.325], [0.02713, 11, 41.11056202], [0.02712, 13, 460.19], [0.02711, 12, 157.02084195], [0.0271, 10, 0.06], [0.02709, 11, 440.961], [0.02708, 11, 53.93953566], [0.02707, 11, 91.789], [0.02706, 10, 0.06], [0.02732, 4, -14.03536595], [0.02733, 8, -19.11141995], [0.02734, 15, -17.15352114], [0.02735, 15, -10.62945006], [0.02736, 19, -39.50971445], [0.02737, 14, -67.13193334], [0.02738, 20, -107.9972828], [0.02739, 14, -24.70687034], [0.0274, 15, -168.8978618], [0.02741, 13, -0.39827058], [0.02742, 15, -64.38705912], [0.02743, 13, -18.965649], [0.02744, 14, -5.69528122], [0.02745, 13, -30.3125904], [0.02746, 12, -59.9130001], [0.02747, 13, -73.91517613], [0.02748, 14, -72.9478643], [0.02749, 12, -259.75427485], [0.0275, 18, -481.89015353], [0.02751, 12, -450.97300001], [0.02752, 11, -0.22545465], [0.02753, 11, -0.60437212], [0.02754, 11, -55.20548852], [0.02755, 12, -92.38645465], [0.02756, 12, -1.60437212]], 'time': 1609239357587},\n",
              "       {'orders': [[0.0273, 2, 0.55412214], [0.02729, 17, 11.42283139], [0.02728, 20, 27.04294384], [0.02727, 15, 36.08999904], [0.02726, 14, 31.76442531], [0.02725, 14, 56.16585671], [0.02724, 13, 42.27848111], [0.02723, 12, 17.92596073], [0.02722, 12, 30.26289353], [0.02721, 14, 227.0217444], [0.0272, 13, 69.18488193], [0.02719, 11, 25.06], [0.02718, 12, 86.25956536], [0.02717, 12, 12.96], [0.02716, 11, 0.79203763], [0.02715, 12, 87.90129484], [0.02714, 11, 72.325], [0.02713, 11, 41.11056202], [0.02712, 13, 460.19], [0.02711, 12, 157.02084195], [0.0271, 10, 0.06], [0.02709, 11, 440.961], [0.02708, 11, 53.93953566], [0.02707, 11, 91.789], [0.02706, 10, 0.06], [0.02732, 2, -0.08349585], [0.02733, 10, -32.50237998], [0.02734, 16, -19.45163175], [0.02735, 14, -7.27659819], [0.02736, 19, -29.32382456], [0.02737, 15, -80.67193334], [0.02738, 19, -94.63011346], [0.02739, 16, -38.17471744], [0.0274, 15, -168.8978618], [0.02741, 14, -20.44610268], [0.02742, 14, -44.34528122], [0.02743, 13, -18.965649], [0.02744, 14, -5.69528122], [0.02745, 13, -30.3125904], [0.02746, 12, -59.9130001], [0.02747, 13, -73.91517613], [0.02748, 14, -72.9478643], [0.02749, 12, -259.75427485], [0.0275, 18, -481.89015353], [0.02751, 12, -450.97300001], [0.02752, 11, -0.22545465], [0.02753, 11, -0.60437212], [0.02754, 11, -55.20548852], [0.02755, 12, -92.38645465], [0.02756, 12, -1.60437212]], 'time': 1609239360745},\n",
              "       {'orders': [[0.0273, 2, 0.55412214], [0.02729, 17, 11.42283139], [0.02728, 20, 27.04294384], [0.02727, 15, 36.08999904], [0.02726, 14, 31.76442531], [0.02725, 14, 56.16585671], [0.02724, 13, 42.27848111], [0.02723, 12, 17.92596073], [0.02722, 12, 30.26289353], [0.02721, 14, 227.0217444], [0.0272, 13, 69.18488193], [0.02719, 11, 25.06], [0.02718, 12, 86.25956536], [0.02717, 12, 12.96], [0.02716, 11, 0.79203763], [0.02715, 12, 87.90129484], [0.02714, 11, 72.325], [0.02713, 11, 41.11056202], [0.02712, 13, 460.19], [0.02711, 12, 157.02084195], [0.0271, 10, 0.06], [0.02709, 11, 440.961], [0.02708, 11, 53.93953566], [0.02707, 11, 91.789], [0.02706, 10, 0.06], [0.02732, 2, -0.08349585], [0.02733, 10, -32.50237998], [0.02734, 16, -19.45163175], [0.02735, 14, -7.27659819], [0.02736, 19, -29.32382456], [0.02737, 15, -80.67193334], [0.02738, 19, -94.63011346], [0.02739, 16, -38.17471744], [0.0274, 15, -168.8978618], [0.02741, 14, -20.44610268], [0.02742, 14, -44.34528122], [0.02743, 13, -18.965649], [0.02744, 14, -5.69528122], [0.02745, 13, -30.3125904], [0.02746, 12, -59.9130001], [0.02747, 13, -73.91517613], [0.02748, 14, -72.9478643], [0.02749, 12, -259.75427485], [0.0275, 18, -481.89015353], [0.02751, 12, -450.97300001], [0.02752, 11, -0.22545465], [0.02753, 11, -0.60437212], [0.02754, 11, -55.20548852], [0.02755, 12, -92.38645465], [0.02756, 12, -1.60437212]], 'time': 1609239363918}],\n",
              "      dtype=object)"
            ]
          },
          "metadata": {
            "tags": []
          },
          "execution_count": 3
        }
      ]
    },
    {
      "cell_type": "code",
      "metadata": {
        "id": "KCzj0PaMqs9H"
      },
      "source": [
        "import findspark\r\n",
        "findspark.init()\r\n",
        "from pyspark import SparkContext\r\n",
        "from pyspark import SparkConf\r\n",
        "from pyspark.ml.linalg import Vectors\r\n",
        "import pyspark\r\n",
        "from pyspark.sql.functions import udf\r\n",
        "from pyspark.sql.types import FloatType"
      ],
      "execution_count": 4,
      "outputs": []
    },
    {
      "cell_type": "code",
      "metadata": {
        "id": "d6n4qB1zsCv4"
      },
      "source": [
        "from pyspark.sql import SparkSession\r\n",
        "from pyspark import SparkContext\r\n",
        "from pyspark.streaming import StreamingContext"
      ],
      "execution_count": 5,
      "outputs": []
    },
    {
      "cell_type": "code",
      "metadata": {
        "id": "mlr09X1Gqs1j"
      },
      "source": [
        "spark = SparkSession.builder.getOrCreate()"
      ],
      "execution_count": 6,
      "outputs": []
    },
    {
      "cell_type": "code",
      "metadata": {
        "id": "jvqzdD5pr1nl"
      },
      "source": [
        "sc = spark.sparkContext\r\n",
        "ssc = StreamingContext(sc, 10)\r\n",
        "rdd = ssc.sparkContext.parallelize(bitfinex)"
      ],
      "execution_count": 7,
      "outputs": []
    },
    {
      "cell_type": "code",
      "metadata": {
        "id": "gKd3V0zpr1hN"
      },
      "source": [
        "rdd = rdd.map(lambda x: (x['orders'], x['time']))"
      ],
      "execution_count": 8,
      "outputs": []
    },
    {
      "cell_type": "code",
      "metadata": {
        "colab": {
          "base_uri": "https://localhost:8080/"
        },
        "id": "TNgXHkiYosya",
        "outputId": "2c742ba7-c965-46c9-ee1b-7bf1293a9554"
      },
      "source": [
        "rdd.take(1)"
      ],
      "execution_count": 9,
      "outputs": [
        {
          "output_type": "execute_result",
          "data": {
            "text/plain": [
              "[([[0.02701, 4, 19.63549352],\n",
              "   [0.027, 4, 17.11867786],\n",
              "   [0.02699, 3, 20.36402743],\n",
              "   [0.02698, 2, 21.7853],\n",
              "   [0.02697, 4, 43.29962648],\n",
              "   [0.02696, 2, 7.45266557],\n",
              "   [0.02695, 2, 4.90705179],\n",
              "   [0.02694, 1, 5.6],\n",
              "   [0.02693, 2, 42.37741964],\n",
              "   [0.02692, 9, 13.4953],\n",
              "   [0.02691, 11, 5.12],\n",
              "   [0.0269, 12, 35.05647142],\n",
              "   [0.02689, 12, 212.75016655],\n",
              "   [0.02688, 14, 77.89796794],\n",
              "   [0.02687, 13, 70.1598365],\n",
              "   [0.02686, 12, 7.3613234],\n",
              "   [0.02685, 13, 85.37315135],\n",
              "   [0.02684, 11, 0.18682799],\n",
              "   [0.02683, 13, 38.6210026],\n",
              "   [0.02682, 11, 0.13620594],\n",
              "   [0.02681, 11, 0.55056785],\n",
              "   [0.0268, 12, 72.507],\n",
              "   [0.02679, 11, 19.40053639],\n",
              "   [0.02678, 12, 182.70556509],\n",
              "   [0.02677, 10, 0.12],\n",
              "   [0.02704, 6, -0.036],\n",
              "   [0.02705, 11, -1.366348],\n",
              "   [0.02706, 15, -12.38197914],\n",
              "   [0.02707, 15, -37.09897034],\n",
              "   [0.02708, 13, -13.14305331],\n",
              "   [0.02709, 12, -27.79927846],\n",
              "   [0.0271, 12, -22.84846225],\n",
              "   [0.02711, 11, -25.06],\n",
              "   [0.02712, 13, -60.23560576],\n",
              "   [0.02713, 12, -34.309],\n",
              "   [0.02714, 10, -0.06],\n",
              "   [0.02715, 13, -53.70194438],\n",
              "   [0.02716, 13, -69.01684739],\n",
              "   [0.02717, 11, -28.30514313],\n",
              "   [0.02718, 11, -58.06],\n",
              "   [0.02719, 15, -291.21027065],\n",
              "   [0.0272, 12, -56.4787544],\n",
              "   [0.02721, 13, -60.42591836],\n",
              "   [0.02722, 12, -76.5352188],\n",
              "   [0.02723, 10, -0.06],\n",
              "   [0.02724, 10, -0.06],\n",
              "   [0.02725, 11, -50.67534105],\n",
              "   [0.02726, 10, -0.06],\n",
              "   [0.02727, 11, -0.07553159],\n",
              "   [0.02728, 11, -92.838]],\n",
              "  1609195953321)]"
            ]
          },
          "metadata": {
            "tags": []
          },
          "execution_count": 9
        }
      ]
    },
    {
      "cell_type": "code",
      "metadata": {
        "id": "lhxdS_Cjzt4O"
      },
      "source": [
        "def min_max(iterator):\n",
        "\n",
        "    max_b = []\n",
        "    min_a = []\n",
        "\n",
        "    for x in iterator:\n",
        "\n",
        "        bids = []\n",
        "        asks = []\n",
        "\n",
        "\n",
        "        for i in range(25):\n",
        "\n",
        "            bids.append(x[0][i][0])\n",
        "            asks.append(x[0][i+25][0])\n",
        "          \n",
        "        max_b.append([x[1],max(bids),min(asks)] )\n",
        "\n",
        "    return max_b"
      ],
      "execution_count": 10,
      "outputs": []
    },
    {
      "cell_type": "code",
      "metadata": {
        "id": "NurZYXT90AGU"
      },
      "source": [
        "final = rdd.mapPartitions(min_max)"
      ],
      "execution_count": 11,
      "outputs": []
    },
    {
      "cell_type": "code",
      "metadata": {
        "colab": {
          "base_uri": "https://localhost:8080/"
        },
        "id": "AXUOopt2tdOI",
        "outputId": "eb8f95f4-39fa-4d59-8cfb-f3be7b4e8089"
      },
      "source": [
        "final.take(25)"
      ],
      "execution_count": 12,
      "outputs": [
        {
          "output_type": "execute_result",
          "data": {
            "text/plain": [
              "[[1609195953321, 0.02701, 0.02704],\n",
              " [1609195954768, 0.02701, 0.02704],\n",
              " [1609195956195, 0.02702, 0.02704],\n",
              " [1609195957662, 0.02702, 0.02704],\n",
              " [1609195959134, 0.02703, 0.02704],\n",
              " [1609195960598, 0.02703, 0.02704],\n",
              " [1609195962124, 0.02706, 0.02709],\n",
              " [1609195963546, 0.02706, 0.02709],\n",
              " [1609195964951, 0.02707, 0.02709],\n",
              " [1609195966350, 0.02706, 0.02709],\n",
              " [1609195967728, 0.02706, 0.02709],\n",
              " [1609195969395, 0.02708, 0.02711],\n",
              " [1609195970821, 0.02708, 0.02711],\n",
              " [1609195972257, 0.02708, 0.02711],\n",
              " [1609195973669, 0.02708, 0.02711],\n",
              " [1609195975085, 0.02708, 0.02711],\n",
              " [1609195976495, 0.02707, 0.02711],\n",
              " [1609195978018, 0.02707, 0.02711],\n",
              " [1609195979445, 0.02706, 0.0271],\n",
              " [1609195980984, 0.02706, 0.0271],\n",
              " [1609195982389, 0.02706, 0.0271],\n",
              " [1609195983838, 0.02706, 0.0271],\n",
              " [1609195985286, 0.02706, 0.0271],\n",
              " [1609195986803, 0.02706, 0.0271],\n",
              " [1609195988331, 0.02704, 0.02708]]"
            ]
          },
          "metadata": {
            "tags": []
          },
          "execution_count": 12
        }
      ]
    },
    {
      "cell_type": "code",
      "metadata": {
        "id": "ma1tpT0DhPBV"
      },
      "source": [
        "binance = np.load('/content/binance_order_array.npy',allow_pickle=True)"
      ],
      "execution_count": 13,
      "outputs": []
    },
    {
      "cell_type": "code",
      "metadata": {
        "id": "yP2iOva2hnBK"
      },
      "source": [
        "binance = ssc.sparkContext.parallelize (\n",
        "    binance\n",
        ")"
      ],
      "execution_count": 14,
      "outputs": []
    },
    {
      "cell_type": "code",
      "metadata": {
        "id": "qRt6pQXUhsOq"
      },
      "source": [
        "bin_times = (binance.map(lambda x: (str(x['time'])[:-3],0)))\\\n",
        ".leftOuterJoin(\n",
        "    final.map(lambda x: ((str(x[0])[:-3]), (str(x[1]), str(x[2]))))\n",
        "    )"
      ],
      "execution_count": 15,
      "outputs": []
    },
    {
      "cell_type": "code",
      "metadata": {
        "id": "l3YSxtceh4eD"
      },
      "source": [
        "bin_times = bin_times.map(lambda x: [x[0],x[1][1]])"
      ],
      "execution_count": 16,
      "outputs": []
    },
    {
      "cell_type": "code",
      "metadata": {
        "id": "EIRkhupuiFei"
      },
      "source": [
        "def removeNone(iterator):\n",
        "\n",
        "    sv = 0\n",
        "\n",
        "    out = []\n",
        "\n",
        "    for x in iterator:\n",
        "        if x[1] is None:\n",
        "            x[1] = sv\n",
        "        else:\n",
        "            sv = x[1]\n",
        "\n",
        "        out.append([x[0],x[1]])\n",
        "        \n",
        "    return out "
      ],
      "execution_count": 17,
      "outputs": []
    },
    {
      "cell_type": "code",
      "metadata": {
        "id": "EOE99FaGiIrh"
      },
      "source": [
        "bitf_order = bin_times.mapPartitions(removeNone)"
      ],
      "execution_count": 18,
      "outputs": []
    },
    {
      "cell_type": "code",
      "metadata": {
        "colab": {
          "base_uri": "https://localhost:8080/"
        },
        "id": "ZyRfKgTTiP9R",
        "outputId": "3f611d47-5014-48f0-e837-eed7ec31b673"
      },
      "source": [
        "bitf_order.take(5)"
      ],
      "execution_count": 19,
      "outputs": [
        {
          "output_type": "execute_result",
          "data": {
            "text/plain": [
              "[['1609195964', ('0.02707', '0.02709')],\n",
              " ['1609195968', ('0.02707', '0.02709')],\n",
              " ['1609195970', ('0.02708', '0.02711')],\n",
              " ['1609195987', ('0.02708', '0.02711')],\n",
              " ['1609195990', ('0.02708', '0.02711')]]"
            ]
          },
          "metadata": {
            "tags": []
          },
          "execution_count": 19
        }
      ]
    },
    {
      "cell_type": "code",
      "metadata": {
        "colab": {
          "base_uri": "https://localhost:8080/"
        },
        "id": "yaElHp4oiTGY",
        "outputId": "2e3edf8c-8dd2-404e-ba34-3d5c3bbb3463"
      },
      "source": [
        "!pip install influxdb"
      ],
      "execution_count": 20,
      "outputs": [
        {
          "output_type": "stream",
          "text": [
            "Requirement already satisfied: influxdb in /usr/local/lib/python3.6/dist-packages (5.3.1)\n",
            "Requirement already satisfied: msgpack in /usr/local/lib/python3.6/dist-packages (from influxdb) (1.0.1)\n",
            "Requirement already satisfied: pytz in /usr/local/lib/python3.6/dist-packages (from influxdb) (2018.9)\n",
            "Requirement already satisfied: python-dateutil>=2.6.0 in /usr/local/lib/python3.6/dist-packages (from influxdb) (2.8.1)\n",
            "Requirement already satisfied: requests>=2.17.0 in /usr/local/lib/python3.6/dist-packages (from influxdb) (2.23.0)\n",
            "Requirement already satisfied: six>=1.10.0 in /usr/local/lib/python3.6/dist-packages (from influxdb) (1.15.0)\n",
            "Requirement already satisfied: urllib3!=1.25.0,!=1.25.1,<1.26,>=1.21.1 in /usr/local/lib/python3.6/dist-packages (from requests>=2.17.0->influxdb) (1.24.3)\n",
            "Requirement already satisfied: idna<3,>=2.5 in /usr/local/lib/python3.6/dist-packages (from requests>=2.17.0->influxdb) (2.10)\n",
            "Requirement already satisfied: certifi>=2017.4.17 in /usr/local/lib/python3.6/dist-packages (from requests>=2.17.0->influxdb) (2020.12.5)\n",
            "Requirement already satisfied: chardet<4,>=3.0.2 in /usr/local/lib/python3.6/dist-packages (from requests>=2.17.0->influxdb) (3.0.4)\n"
          ],
          "name": "stdout"
        }
      ]
    },
    {
      "cell_type": "code",
      "metadata": {
        "colab": {
          "base_uri": "https://localhost:8080/"
        },
        "id": "tHc8jeAFiUqR",
        "outputId": "ad2a7575-9c81-4518-e03d-2ec9ee75939b"
      },
      "source": [
        "!sudo apt-get update && sudo apt-get install influxdb"
      ],
      "execution_count": 21,
      "outputs": [
        {
          "output_type": "stream",
          "text": [
            "\r0% [Working]\r            \rIgn:1 https://developer.download.nvidia.com/compute/cuda/repos/ubuntu1804/x86_64  InRelease\n",
            "\r0% [Connecting to archive.ubuntu.com (91.189.88.152)] [Connecting to security.u\r                                                                               \rHit:2 https://cloud.r-project.org/bin/linux/ubuntu bionic-cran40/ InRelease\n",
            "\r0% [Connecting to archive.ubuntu.com (91.189.88.152)] [Connecting to security.u\r                                                                               \rIgn:3 https://developer.download.nvidia.com/compute/machine-learning/repos/ubuntu1804/x86_64  InRelease\n",
            "\r0% [Connecting to archive.ubuntu.com (91.189.88.152)] [Connecting to security.u\r0% [2 InRelease gpgv 3,626 B] [Connecting to archive.ubuntu.com (91.189.88.152)\r                                                                               \rHit:4 https://developer.download.nvidia.com/compute/cuda/repos/ubuntu1804/x86_64  Release\n",
            "Hit:5 https://developer.download.nvidia.com/compute/machine-learning/repos/ubuntu1804/x86_64  Release\n",
            "Hit:7 http://archive.ubuntu.com/ubuntu bionic InRelease\n",
            "Hit:9 http://ppa.launchpad.net/c2d4u.team/c2d4u4.0+/ubuntu bionic InRelease\n",
            "Get:10 http://security.ubuntu.com/ubuntu bionic-security InRelease [88.7 kB]\n",
            "Get:11 http://archive.ubuntu.com/ubuntu bionic-updates InRelease [88.7 kB]\n",
            "Hit:12 http://ppa.launchpad.net/cran/libgit2/ubuntu bionic InRelease\n",
            "Hit:13 http://ppa.launchpad.net/graphics-drivers/ppa/ubuntu bionic InRelease\n",
            "Get:14 http://archive.ubuntu.com/ubuntu bionic-backports InRelease [74.6 kB]\n",
            "Fetched 252 kB in 1s (225 kB/s)\n",
            "Reading package lists... Done\n",
            "Reading package lists... Done\n",
            "Building dependency tree       \n",
            "Reading state information... Done\n",
            "influxdb is already the newest version (1.1.1+dfsg1-4).\n",
            "0 upgraded, 0 newly installed, 0 to remove and 19 not upgraded.\n"
          ],
          "name": "stdout"
        }
      ]
    },
    {
      "cell_type": "code",
      "metadata": {
        "colab": {
          "base_uri": "https://localhost:8080/"
        },
        "id": "HjvIM9zDiYSZ",
        "outputId": "1648a370-768a-492f-b6ea-9bb1167b4e8b"
      },
      "source": [
        "!sudo service influxdb start"
      ],
      "execution_count": 22,
      "outputs": [
        {
          "output_type": "stream",
          "text": [
            " * Starting database influxd\n",
            "   ...done.\n"
          ],
          "name": "stdout"
        }
      ]
    },
    {
      "cell_type": "code",
      "metadata": {
        "id": "Rsn_dgrVib-a"
      },
      "source": [
        "from influxdb import InfluxDBClient\n",
        "client = InfluxDBClient(host='localhost', port=8086)"
      ],
      "execution_count": 23,
      "outputs": []
    },
    {
      "cell_type": "code",
      "metadata": {
        "id": "EPugxdopiwZi"
      },
      "source": [
        "client.create_database('bitfinex_order')"
      ],
      "execution_count": 24,
      "outputs": []
    },
    {
      "cell_type": "code",
      "metadata": {
        "id": "46Z21s5Fiy3f"
      },
      "source": [
        "def influxForm(partitions):\n",
        "    result = []\n",
        "    for i in range(np.array(partitions).shape[0] - 1):\n",
        "      if partitions[i][1]!=0:\n",
        "        result.append('bitfinex_order date='+partitions[i][0]+','+'bids='+partitions[i][1][0]+','+'asks='+ partitions[i][1][1])\n",
        "    return result"
      ],
      "execution_count": 25,
      "outputs": []
    },
    {
      "cell_type": "code",
      "metadata": {
        "id": "AFr_LqIujILz"
      },
      "source": [
        "bitfinex_or = bitf_order.mapPartitions(influxForm)  "
      ],
      "execution_count": 26,
      "outputs": []
    },
    {
      "cell_type": "code",
      "metadata": {
        "colab": {
          "base_uri": "https://localhost:8080/"
        },
        "id": "oyTi4FCAmNI1",
        "outputId": "ea10cb2a-adf6-4777-c5ad-333c91bcee55"
      },
      "source": [
        "bitfinex_or.count()"
      ],
      "execution_count": 27,
      "outputs": [
        {
          "output_type": "execute_result",
          "data": {
            "text/plain": [
              "10045"
            ]
          },
          "metadata": {
            "tags": []
          },
          "execution_count": 27
        }
      ]
    },
    {
      "cell_type": "code",
      "metadata": {
        "colab": {
          "base_uri": "https://localhost:8080/"
        },
        "id": "qebO0Zs6jRvN",
        "outputId": "2eda5ed1-6c67-4857-f9a9-5e3078f78e2a"
      },
      "source": [
        "client.write_points(bitfinex_or.collect(), database='bitfinex_order', time_precision='ms', batch_size=1, protocol='line')"
      ],
      "execution_count": 28,
      "outputs": [
        {
          "output_type": "execute_result",
          "data": {
            "text/plain": [
              "True"
            ]
          },
          "metadata": {
            "tags": []
          },
          "execution_count": 28
        }
      ]
    },
    {
      "cell_type": "code",
      "metadata": {
        "id": "MnItuRyHjx6i"
      },
      "source": [
        "client.switch_database('bitfinex_order')\n",
        "q='select * from bitfinex_order.autogen.bitfinex_order'\n",
        "bf_order = pd.DataFrame(client.query(q).get_points())"
      ],
      "execution_count": 29,
      "outputs": []
    },
    {
      "cell_type": "code",
      "metadata": {
        "colab": {
          "base_uri": "https://localhost:8080/",
          "height": 419
        },
        "id": "VdjdP3jq1oqp",
        "outputId": "4184db5c-77a5-43c4-bb01-65757cec4d83"
      },
      "source": [
        "bf_order"
      ],
      "execution_count": 30,
      "outputs": [
        {
          "output_type": "execute_result",
          "data": {
            "text/html": [
              "<div>\n",
              "<style scoped>\n",
              "    .dataframe tbody tr th:only-of-type {\n",
              "        vertical-align: middle;\n",
              "    }\n",
              "\n",
              "    .dataframe tbody tr th {\n",
              "        vertical-align: top;\n",
              "    }\n",
              "\n",
              "    .dataframe thead th {\n",
              "        text-align: right;\n",
              "    }\n",
              "</style>\n",
              "<table border=\"1\" class=\"dataframe\">\n",
              "  <thead>\n",
              "    <tr style=\"text-align: right;\">\n",
              "      <th></th>\n",
              "      <th>time</th>\n",
              "      <th>asks</th>\n",
              "      <th>bids</th>\n",
              "      <th>date</th>\n",
              "    </tr>\n",
              "  </thead>\n",
              "  <tbody>\n",
              "    <tr>\n",
              "      <th>0</th>\n",
              "      <td>2021-01-03T20:06:53.166Z</td>\n",
              "      <td>0.02709</td>\n",
              "      <td>0.02707</td>\n",
              "      <td>1.609196e+09</td>\n",
              "    </tr>\n",
              "    <tr>\n",
              "      <th>1</th>\n",
              "      <td>2021-01-03T20:06:53.181Z</td>\n",
              "      <td>0.02709</td>\n",
              "      <td>0.02707</td>\n",
              "      <td>1.609196e+09</td>\n",
              "    </tr>\n",
              "    <tr>\n",
              "      <th>2</th>\n",
              "      <td>2021-01-03T20:06:53.189Z</td>\n",
              "      <td>0.02711</td>\n",
              "      <td>0.02708</td>\n",
              "      <td>1.609196e+09</td>\n",
              "    </tr>\n",
              "    <tr>\n",
              "      <th>3</th>\n",
              "      <td>2021-01-03T20:06:53.196Z</td>\n",
              "      <td>0.02711</td>\n",
              "      <td>0.02708</td>\n",
              "      <td>1.609196e+09</td>\n",
              "    </tr>\n",
              "    <tr>\n",
              "      <th>4</th>\n",
              "      <td>2021-01-03T20:06:53.203Z</td>\n",
              "      <td>0.02711</td>\n",
              "      <td>0.02708</td>\n",
              "      <td>1.609196e+09</td>\n",
              "    </tr>\n",
              "    <tr>\n",
              "      <th>...</th>\n",
              "      <td>...</td>\n",
              "      <td>...</td>\n",
              "      <td>...</td>\n",
              "      <td>...</td>\n",
              "    </tr>\n",
              "    <tr>\n",
              "      <th>10040</th>\n",
              "      <td>2021-01-03T20:07:42.782Z</td>\n",
              "      <td>0.02731</td>\n",
              "      <td>0.02730</td>\n",
              "      <td>1.609239e+09</td>\n",
              "    </tr>\n",
              "    <tr>\n",
              "      <th>10041</th>\n",
              "      <td>2021-01-03T20:07:42.787Z</td>\n",
              "      <td>0.02731</td>\n",
              "      <td>0.02730</td>\n",
              "      <td>1.609239e+09</td>\n",
              "    </tr>\n",
              "    <tr>\n",
              "      <th>10042</th>\n",
              "      <td>2021-01-03T20:07:42.792Z</td>\n",
              "      <td>0.02731</td>\n",
              "      <td>0.02730</td>\n",
              "      <td>1.609239e+09</td>\n",
              "    </tr>\n",
              "    <tr>\n",
              "      <th>10043</th>\n",
              "      <td>2021-01-03T20:07:42.797Z</td>\n",
              "      <td>0.02731</td>\n",
              "      <td>0.02730</td>\n",
              "      <td>1.609239e+09</td>\n",
              "    </tr>\n",
              "    <tr>\n",
              "      <th>10044</th>\n",
              "      <td>2021-01-03T20:07:42.801Z</td>\n",
              "      <td>0.02731</td>\n",
              "      <td>0.02730</td>\n",
              "      <td>1.609239e+09</td>\n",
              "    </tr>\n",
              "  </tbody>\n",
              "</table>\n",
              "<p>10045 rows × 4 columns</p>\n",
              "</div>"
            ],
            "text/plain": [
              "                           time     asks     bids          date\n",
              "0      2021-01-03T20:06:53.166Z  0.02709  0.02707  1.609196e+09\n",
              "1      2021-01-03T20:06:53.181Z  0.02709  0.02707  1.609196e+09\n",
              "2      2021-01-03T20:06:53.189Z  0.02711  0.02708  1.609196e+09\n",
              "3      2021-01-03T20:06:53.196Z  0.02711  0.02708  1.609196e+09\n",
              "4      2021-01-03T20:06:53.203Z  0.02711  0.02708  1.609196e+09\n",
              "...                         ...      ...      ...           ...\n",
              "10040  2021-01-03T20:07:42.782Z  0.02731  0.02730  1.609239e+09\n",
              "10041  2021-01-03T20:07:42.787Z  0.02731  0.02730  1.609239e+09\n",
              "10042  2021-01-03T20:07:42.792Z  0.02731  0.02730  1.609239e+09\n",
              "10043  2021-01-03T20:07:42.797Z  0.02731  0.02730  1.609239e+09\n",
              "10044  2021-01-03T20:07:42.801Z  0.02731  0.02730  1.609239e+09\n",
              "\n",
              "[10045 rows x 4 columns]"
            ]
          },
          "metadata": {
            "tags": []
          },
          "execution_count": 30
        }
      ]
    }
  ]
}