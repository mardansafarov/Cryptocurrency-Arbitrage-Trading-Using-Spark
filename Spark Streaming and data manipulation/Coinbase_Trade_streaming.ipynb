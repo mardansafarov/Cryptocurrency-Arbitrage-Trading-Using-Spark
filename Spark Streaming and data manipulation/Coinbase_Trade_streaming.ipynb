{
  "nbformat": 4,
  "nbformat_minor": 0,
  "metadata": {
    "colab": {
      "name": "Coinbase Trade streaming.ipynb",
      "provenance": []
    },
    "kernelspec": {
      "name": "python3",
      "display_name": "Python 3"
    }
  },
  "cells": [
    {
      "cell_type": "markdown",
      "metadata": {
        "id": "Z9mmboMZoqGS"
      },
      "source": [
        "# **Spark Streaming**"
      ]
    },
    {
      "cell_type": "code",
      "metadata": {
        "id": "Z6Nyb8sr1Krv"
      },
      "source": [
        "# innstall java\n",
        "!apt-get install openjdk-8-jdk-headless -qq > /dev/null\n",
        " \n",
        "# install spark (change the version number if needed)\n",
        "!wget -q https://archive.apache.org/dist/spark/spark-3.0.0/spark-3.0.0-bin-hadoop3.2.tgz\n",
        " \n",
        "# unzip the spark file to the current folder\n",
        "!tar xf spark-3.0.0-bin-hadoop3.2.tgz\n",
        " \n",
        "# set your spark folder to your system path environment. \n",
        "import os\n",
        "os.environ[\"JAVA_HOME\"] = \"/usr/lib/jvm/java-8-openjdk-amd64\"\n",
        "os.environ[\"SPARK_HOME\"] = \"/content/spark-3.0.0-bin-hadoop3.2\"\n",
        " \n",
        "\n",
        "# install findspark using pip\n",
        "!pip install -q findspark"
      ],
      "execution_count": 1,
      "outputs": []
    },
    {
      "cell_type": "code",
      "metadata": {
        "colab": {
          "base_uri": "https://localhost:8080/"
        },
        "id": "SgVM5WBm1487",
        "outputId": "fb459a4d-f31f-4126-8784-dadd42586558"
      },
      "source": [
        "!pip install pyspark"
      ],
      "execution_count": 2,
      "outputs": [
        {
          "output_type": "stream",
          "text": [
            "Collecting pyspark\n",
            "\u001b[?25l  Downloading https://files.pythonhosted.org/packages/f0/26/198fc8c0b98580f617cb03cb298c6056587b8f0447e20fa40c5b634ced77/pyspark-3.0.1.tar.gz (204.2MB)\n",
            "\u001b[K     |████████████████████████████████| 204.2MB 69kB/s \n",
            "\u001b[?25hCollecting py4j==0.10.9\n",
            "\u001b[?25l  Downloading https://files.pythonhosted.org/packages/9e/b6/6a4fb90cd235dc8e265a6a2067f2a2c99f0d91787f06aca4bcf7c23f3f80/py4j-0.10.9-py2.py3-none-any.whl (198kB)\n",
            "\u001b[K     |████████████████████████████████| 204kB 46.7MB/s \n",
            "\u001b[?25hBuilding wheels for collected packages: pyspark\n",
            "  Building wheel for pyspark (setup.py) ... \u001b[?25l\u001b[?25hdone\n",
            "  Created wheel for pyspark: filename=pyspark-3.0.1-py2.py3-none-any.whl size=204612242 sha256=6e6e4c4be285b3180d3e391588eb190001b4f29fe53934f1deac05481f22fda9\n",
            "  Stored in directory: /root/.cache/pip/wheels/5e/bd/07/031766ca628adec8435bb40f0bd83bb676ce65ff4007f8e73f\n",
            "Successfully built pyspark\n",
            "Installing collected packages: py4j, pyspark\n",
            "Successfully installed py4j-0.10.9 pyspark-3.0.1\n"
          ],
          "name": "stdout"
        }
      ]
    },
    {
      "cell_type": "code",
      "metadata": {
        "id": "EuH5v_T217_6"
      },
      "source": [
        "from pyspark.sql import SparkSession\n",
        "from pyspark.sql.types import StructType\n",
        "from pyspark import SQLContext"
      ],
      "execution_count": 3,
      "outputs": []
    },
    {
      "cell_type": "code",
      "metadata": {
        "id": "dR8ybw-CPxC9"
      },
      "source": [
        "import numpy as np\n",
        "import pandas as pd\n",
        "\n",
        "cb_tr = np.load('/content/coinbase_trade_array.npy',allow_pickle=True)\n",
        "bn_order = np.load('/content/binance_order_array.npy',allow_pickle=True)"
      ],
      "execution_count": 4,
      "outputs": []
    },
    {
      "cell_type": "code",
      "metadata": {
        "id": "NulmW6EW2bh5"
      },
      "source": [
        "from pyspark import SparkContext\n",
        "sc = SparkContext(\"local\", \"First App\")\n",
        "sqlContext = SQLContext(sc)"
      ],
      "execution_count": 5,
      "outputs": []
    },
    {
      "cell_type": "code",
      "metadata": {
        "id": "hDukrSoB3vzu"
      },
      "source": [
        "from pyspark.streaming import StreamingContext\n",
        "ssc = StreamingContext(sc, 1)"
      ],
      "execution_count": 6,
      "outputs": []
    },
    {
      "cell_type": "code",
      "metadata": {
        "id": "-zP1Q3TfZZWe"
      },
      "source": [
        "cb_trade = ssc.sparkContext.parallelize (\n",
        "    cb_tr\n",
        ")\n",
        "\n",
        "binance_order = ssc.sparkContext.parallelize (\n",
        "    bn_order\n",
        ")"
      ],
      "execution_count": 7,
      "outputs": []
    },
    {
      "cell_type": "code",
      "metadata": {
        "id": "KrxErzw9d1bE"
      },
      "source": [
        "merged = (binance_order.map(lambda x: (str(x['time'])[:-3],0)))\\\n",
        ".leftOuterJoin(\n",
        "    cb_trade.map(lambda x: ((str(x[0])[:-2]), x[4]))\n",
        "    )"
      ],
      "execution_count": 8,
      "outputs": []
    },
    {
      "cell_type": "code",
      "metadata": {
        "id": "L5IKDEkmj6nB"
      },
      "source": [
        "merged = merged.map(lambda x: [x[0],x[1][1]])"
      ],
      "execution_count": 9,
      "outputs": []
    },
    {
      "cell_type": "code",
      "metadata": {
        "colab": {
          "base_uri": "https://localhost:8080/"
        },
        "id": "imfs0aqDgPpU",
        "outputId": "badf9e1d-3cd8-4eb9-ae6f-a4e89c1d9793"
      },
      "source": [
        "merged.take(50)"
      ],
      "execution_count": 10,
      "outputs": [
        {
          "output_type": "execute_result",
          "data": {
            "text/plain": [
              "[['1609195950', None],\n",
              " ['1609195951', None],\n",
              " ['1609195953', None],\n",
              " ['1609195954', None],\n",
              " ['1609195957', None],\n",
              " ['1609195962', None],\n",
              " ['1609195964', None],\n",
              " ['1609195967', None],\n",
              " ['1609195968', None],\n",
              " ['1609195970', None],\n",
              " ['1609195971', None],\n",
              " ['1609195976', None],\n",
              " ['1609195977', None],\n",
              " ['1609195982', None],\n",
              " ['1609195984', None],\n",
              " ['1609195987', None],\n",
              " ['1609195990', None],\n",
              " ['1609195992', None],\n",
              " ['1609195993', None],\n",
              " ['1609195995', None],\n",
              " ['1609195996', None],\n",
              " ['1609195998', None],\n",
              " ['1609196000', None],\n",
              " ['1609196001', None],\n",
              " ['1609196003', None],\n",
              " ['1609196008', None],\n",
              " ['1609196015', None],\n",
              " ['1609196017', None],\n",
              " ['1609196018', None],\n",
              " ['1609196020', None],\n",
              " ['1609196021', None],\n",
              " ['1609196023', None],\n",
              " ['1609196028', None],\n",
              " ['1609196032', None],\n",
              " ['1609196037', None],\n",
              " ['1609196040', 0.02707],\n",
              " ['1609196042', None],\n",
              " ['1609196046', None],\n",
              " ['1609196055', None],\n",
              " ['1609196058', None],\n",
              " ['1609196061', None],\n",
              " ['1609196063', None],\n",
              " ['1609196066', None],\n",
              " ['1609196069', None],\n",
              " ['1609196071', None],\n",
              " ['1609196073', None],\n",
              " ['1609196076', None],\n",
              " ['1609196077', None],\n",
              " ['1609196079', None],\n",
              " ['1609196082', None]]"
            ]
          },
          "metadata": {
            "tags": []
          },
          "execution_count": 10
        }
      ]
    },
    {
      "cell_type": "code",
      "metadata": {
        "id": "xBEv43VS1hqm"
      },
      "source": [
        "def arrange(iterator):\n",
        "\n",
        "    sv = 0\n",
        "\n",
        "    out = []\n",
        "\n",
        "    for x in iterator:\n",
        "        if x[1] is None:\n",
        "            x[1] = sv\n",
        "        else:\n",
        "            sv = x[1]\n",
        "\n",
        "        out.append([x[0],x[1]])\n",
        "        \n",
        "    return out "
      ],
      "execution_count": 11,
      "outputs": []
    },
    {
      "cell_type": "code",
      "metadata": {
        "id": "67aNnsBE0qeO"
      },
      "source": [
        "cb_arr = merged.mapPartitions(arrange)"
      ],
      "execution_count": 12,
      "outputs": []
    },
    {
      "cell_type": "code",
      "metadata": {
        "colab": {
          "base_uri": "https://localhost:8080/"
        },
        "id": "ifrDlCiAjGZ8",
        "outputId": "cb68e0c0-69ad-4155-c403-ce7d05c55a2e"
      },
      "source": [
        "cb_arr.take(20)"
      ],
      "execution_count": 13,
      "outputs": [
        {
          "output_type": "execute_result",
          "data": {
            "text/plain": [
              "[['1609195950', 0],\n",
              " ['1609195951', 0],\n",
              " ['1609195953', 0],\n",
              " ['1609195954', 0],\n",
              " ['1609195957', 0],\n",
              " ['1609195962', 0],\n",
              " ['1609195964', 0],\n",
              " ['1609195967', 0],\n",
              " ['1609195968', 0],\n",
              " ['1609195970', 0],\n",
              " ['1609195971', 0],\n",
              " ['1609195976', 0],\n",
              " ['1609195977', 0],\n",
              " ['1609195982', 0],\n",
              " ['1609195984', 0],\n",
              " ['1609195987', 0],\n",
              " ['1609195990', 0],\n",
              " ['1609195992', 0],\n",
              " ['1609195993', 0],\n",
              " ['1609195995', 0]]"
            ]
          },
          "metadata": {
            "tags": []
          },
          "execution_count": 13
        }
      ]
    },
    {
      "cell_type": "code",
      "metadata": {
        "id": "Op5NO5PX4LE8"
      },
      "source": [
        "def arrange_last(iterator):\n",
        "\n",
        "    sv = 0    \n",
        "    out = []\n",
        "    res = []\n",
        "\n",
        "    for x in iterator:\n",
        "        if x[1] is not 0:\n",
        "            out.append(x[1])\n",
        "    \n",
        "    for x in iterator:\n",
        "\n",
        "        if x[1] is 0:\n",
        "            x[1] = out[0]\n",
        "\n",
        "        res.append([x[0],x[1]])\n",
        "\n",
        "    return res "
      ],
      "execution_count": 14,
      "outputs": []
    },
    {
      "cell_type": "code",
      "metadata": {
        "id": "0WxncNQ33uSI"
      },
      "source": [
        "last_cb = cb_arr.mapPartitions(arrange_last)"
      ],
      "execution_count": 15,
      "outputs": []
    },
    {
      "cell_type": "code",
      "metadata": {
        "colab": {
          "base_uri": "https://localhost:8080/"
        },
        "id": "-a94oGYk0tMY",
        "outputId": "860fab03-17d9-4d88-ab06-3741dc6de9b7"
      },
      "source": [
        "last_cb.take(200)"
      ],
      "execution_count": 16,
      "outputs": [
        {
          "output_type": "execute_result",
          "data": {
            "text/plain": [
              "[['1609195950', 0.02707],\n",
              " ['1609195951', 0.02707],\n",
              " ['1609195953', 0.02707],\n",
              " ['1609195954', 0.02707],\n",
              " ['1609195957', 0.02707],\n",
              " ['1609195962', 0.02707],\n",
              " ['1609195964', 0.02707],\n",
              " ['1609195967', 0.02707],\n",
              " ['1609195968', 0.02707],\n",
              " ['1609195970', 0.02707],\n",
              " ['1609195971', 0.02707],\n",
              " ['1609195976', 0.02707],\n",
              " ['1609195977', 0.02707],\n",
              " ['1609195982', 0.02707],\n",
              " ['1609195984', 0.02707],\n",
              " ['1609195987', 0.02707],\n",
              " ['1609195990', 0.02707],\n",
              " ['1609195992', 0.02707],\n",
              " ['1609195993', 0.02707],\n",
              " ['1609195995', 0.02707],\n",
              " ['1609195996', 0.02707],\n",
              " ['1609195998', 0.02707],\n",
              " ['1609196000', 0.02707],\n",
              " ['1609196001', 0.02707],\n",
              " ['1609196003', 0.02707],\n",
              " ['1609196008', 0.02707],\n",
              " ['1609196015', 0.02707],\n",
              " ['1609196017', 0.02707],\n",
              " ['1609196018', 0.02707],\n",
              " ['1609196020', 0.02707],\n",
              " ['1609196021', 0.02707],\n",
              " ['1609196023', 0.02707],\n",
              " ['1609196028', 0.02707],\n",
              " ['1609196032', 0.02707],\n",
              " ['1609196037', 0.02707],\n",
              " ['1609196040', 0.02707],\n",
              " ['1609196042', 0.02707],\n",
              " ['1609196046', 0.02707],\n",
              " ['1609196055', 0.02707],\n",
              " ['1609196058', 0.02707],\n",
              " ['1609196061', 0.02707],\n",
              " ['1609196063', 0.02707],\n",
              " ['1609196066', 0.02707],\n",
              " ['1609196069', 0.02707],\n",
              " ['1609196071', 0.02707],\n",
              " ['1609196073', 0.02707],\n",
              " ['1609196076', 0.02707],\n",
              " ['1609196077', 0.02707],\n",
              " ['1609196079', 0.02707],\n",
              " ['1609196082', 0.02707],\n",
              " ['1609196084', 0.02707],\n",
              " ['1609196085', 0.02707],\n",
              " ['1609196087', 0.02707],\n",
              " ['1609196088', 0.02707],\n",
              " ['1609196091', 0.02707],\n",
              " ['1609196093', 0.02707],\n",
              " ['1609196094', 0.02707],\n",
              " ['1609196096', 0.02707],\n",
              " ['1609196099', 0.02707],\n",
              " ['1609196101', 0.02707],\n",
              " ['1609196102', 0.02707],\n",
              " ['1609196104', 0.02707],\n",
              " ['1609196105', 0.02707],\n",
              " ['1609196107', 0.02707],\n",
              " ['1609196110', 0.02707],\n",
              " ['1609196112', 0.02707],\n",
              " ['1609196115', 0.02707],\n",
              " ['1609196117', 0.02707],\n",
              " ['1609196118', 0.02707],\n",
              " ['1609196123', 0.02707],\n",
              " ['1609196125', 0.02707],\n",
              " ['1609196127', 0.02707],\n",
              " ['1609196128', 0.02707],\n",
              " ['1609196130', 0.02707],\n",
              " ['1609196131', 0.02707],\n",
              " ['1609196133', 0.02707],\n",
              " ['1609196135', 0.02707],\n",
              " ['1609196139', 0.02707],\n",
              " ['1609196144', 0.02707],\n",
              " ['1609196147', 0.02707],\n",
              " ['1609196150', 0.02707],\n",
              " ['1609196152', 0.02707],\n",
              " ['1609196154', 0.02707],\n",
              " ['1609196155', 0.02707],\n",
              " ['1609196158', 0.02707],\n",
              " ['1609196163', 0.02707],\n",
              " ['1609196166', 0.02707],\n",
              " ['1609196168', 0.02707],\n",
              " ['1609196169', 0.02707],\n",
              " ['1609196172', 0.02707],\n",
              " ['1609196174', 0.02707],\n",
              " ['1609196176', 0.02707],\n",
              " ['1609196180', 0.02707],\n",
              " ['1609196186', 0.02707],\n",
              " ['1609196187', 0.02707],\n",
              " ['1609196191', 0.02707],\n",
              " ['1609196192', 0.02707],\n",
              " ['1609196207', 0.02707],\n",
              " ['1609196210', 0.02707],\n",
              " ['1609196213', 0.02707],\n",
              " ['1609196228', 0.02707],\n",
              " ['1609196230', 0.02707],\n",
              " ['1609196231', 0.02707],\n",
              " ['1609196233', 0.02707],\n",
              " ['1609196234', 0.02707],\n",
              " ['1609196239', 0.02707],\n",
              " ['1609196242', 0.02707],\n",
              " ['1609196244', 0.02707],\n",
              " ['1609196246', 0.02707],\n",
              " ['1609196249', 0.02707],\n",
              " ['1609196251', 0.02707],\n",
              " ['1609196254', 0.02707],\n",
              " ['1609196256', 0.02707],\n",
              " ['1609196263', 0.02707],\n",
              " ['1609196266', 0.02707],\n",
              " ['1609196268', 0.02707],\n",
              " ['1609196273', 0.02707],\n",
              " ['1609196274', 0.02707],\n",
              " ['1609196276', 0.02707],\n",
              " ['1609196278', 0.02707],\n",
              " ['1609196282', 0.02707],\n",
              " ['1609196288', 0.02707],\n",
              " ['1609196291', 0.02707],\n",
              " ['1609196292', 0.02707],\n",
              " ['1609196296', 0.02707],\n",
              " ['1609196297', 0.02707],\n",
              " ['1609196299', 0.02707],\n",
              " ['1609196301', 0.02707],\n",
              " ['1609196303', 0.02707],\n",
              " ['1609196304', 0.02707],\n",
              " ['1609196306', 0.02707],\n",
              " ['1609196311', 0.02707],\n",
              " ['1609196315', 0.02707],\n",
              " ['1609196317', 0.02707],\n",
              " ['1609196318', 0.02707],\n",
              " ['1609196322', 0.02707],\n",
              " ['1609196325', 0.02707],\n",
              " ['1609196330', 0.02707],\n",
              " ['1609196334', 0.02707],\n",
              " ['1609196340', 0.02702],\n",
              " ['1609196345', 0.02702],\n",
              " ['1609196348', 0.02702],\n",
              " ['1609196351', 0.02702],\n",
              " ['1609196355', 0.02702],\n",
              " ['1609196356', 0.02702],\n",
              " ['1609196360', 0.02702],\n",
              " ['1609196361', 0.02702],\n",
              " ['1609196365', 0.02702],\n",
              " ['1609196366', 0.02702],\n",
              " ['1609196372', 0.02702],\n",
              " ['1609196379', 0.02702],\n",
              " ['1609196381', 0.02702],\n",
              " ['1609196382', 0.02702],\n",
              " ['1609196384', 0.02702],\n",
              " ['1609196387', 0.02702],\n",
              " ['1609196399', 0.02702],\n",
              " ['1609196402', 0.02702],\n",
              " ['1609196408', 0.02702],\n",
              " ['1609196409', 0.02702],\n",
              " ['1609196411', 0.02702],\n",
              " ['1609196413', 0.02702],\n",
              " ['1609196414', 0.02702],\n",
              " ['1609196418', 0.02702],\n",
              " ['1609196420', 0.02702],\n",
              " ['1609196421', 0.02702],\n",
              " ['1609196425', 0.02702],\n",
              " ['1609196426', 0.02702],\n",
              " ['1609196432', 0.02702],\n",
              " ['1609196439', 0.02702],\n",
              " ['1609196440', 0.02702],\n",
              " ['1609196442', 0.02702],\n",
              " ['1609196448', 0.02702],\n",
              " ['1609196453', 0.02702],\n",
              " ['1609196455', 0.02702],\n",
              " ['1609196456', 0.02702],\n",
              " ['1609196458', 0.02702],\n",
              " ['1609196460', 0.02697],\n",
              " ['1609196468', 0.02697],\n",
              " ['1609196470', 0.02697],\n",
              " ['1609196472', 0.02697],\n",
              " ['1609196474', 0.02697],\n",
              " ['1609196475', 0.02697],\n",
              " ['1609196477', 0.02697],\n",
              " ['1609196479', 0.02697],\n",
              " ['1609196481', 0.02697],\n",
              " ['1609196484', 0.02697],\n",
              " ['1609196486', 0.02697],\n",
              " ['1609196487', 0.02697],\n",
              " ['1609196496', 0.02697],\n",
              " ['1609196498', 0.02697],\n",
              " ['1609196501', 0.02697],\n",
              " ['1609196503', 0.02697],\n",
              " ['1609196510', 0.02697],\n",
              " ['1609196511', 0.02697],\n",
              " ['1609196513', 0.02697],\n",
              " ['1609196515', 0.02697],\n",
              " ['1609196516', 0.02697],\n",
              " ['1609196518', 0.02697],\n",
              " ['1609196523', 0.02697],\n",
              " ['1609196525', 0.02697]]"
            ]
          },
          "metadata": {
            "tags": []
          },
          "execution_count": 16
        }
      ]
    },
    {
      "cell_type": "code",
      "metadata": {
        "id": "e2vzAl4HEc0P"
      },
      "source": [
        "def arranger(iterator):\n",
        "\n",
        "    sv = 0    \n",
        "    out = []\n",
        "    res = []\n",
        "\n",
        "    for i in range(np.array(iterator).shape[0] - 1):\n",
        "\n",
        "        iterator[i][1] = iterator[i+1][1]\n",
        "\n",
        "        out.append([iterator[i][0],iterator[i][1]])\n",
        "\n",
        "    return out "
      ],
      "execution_count": 17,
      "outputs": []
    },
    {
      "cell_type": "code",
      "metadata": {
        "id": "tpA8PY2eE_b7"
      },
      "source": [
        "final_cb = last_cb.mapPartitions(arranger)"
      ],
      "execution_count": 18,
      "outputs": []
    },
    {
      "cell_type": "code",
      "metadata": {
        "colab": {
          "base_uri": "https://localhost:8080/"
        },
        "id": "HGzgH7-XFEHa",
        "outputId": "46d166ee-acb8-44af-9596-8d6b7727137e"
      },
      "source": [
        "final_cb.take(100)"
      ],
      "execution_count": 19,
      "outputs": [
        {
          "output_type": "execute_result",
          "data": {
            "text/plain": [
              "[['1609195950', 0.02707],\n",
              " ['1609195951', 0.02707],\n",
              " ['1609195953', 0.02707],\n",
              " ['1609195954', 0.02707],\n",
              " ['1609195957', 0.02707],\n",
              " ['1609195962', 0.02707],\n",
              " ['1609195964', 0.02707],\n",
              " ['1609195967', 0.02707],\n",
              " ['1609195968', 0.02707],\n",
              " ['1609195970', 0.02707],\n",
              " ['1609195971', 0.02707],\n",
              " ['1609195976', 0.02707],\n",
              " ['1609195977', 0.02707],\n",
              " ['1609195982', 0.02707],\n",
              " ['1609195984', 0.02707],\n",
              " ['1609195987', 0.02707],\n",
              " ['1609195990', 0.02707],\n",
              " ['1609195992', 0.02707],\n",
              " ['1609195993', 0.02707],\n",
              " ['1609195995', 0.02707],\n",
              " ['1609195996', 0.02707],\n",
              " ['1609195998', 0.02707],\n",
              " ['1609196000', 0.02707],\n",
              " ['1609196001', 0.02707],\n",
              " ['1609196003', 0.02707],\n",
              " ['1609196008', 0.02707],\n",
              " ['1609196015', 0.02707],\n",
              " ['1609196017', 0.02707],\n",
              " ['1609196018', 0.02707],\n",
              " ['1609196020', 0.02707],\n",
              " ['1609196021', 0.02707],\n",
              " ['1609196023', 0.02707],\n",
              " ['1609196028', 0.02707],\n",
              " ['1609196032', 0.02707],\n",
              " ['1609196037', 0.02707],\n",
              " ['1609196040', 0.02707],\n",
              " ['1609196042', 0.02707],\n",
              " ['1609196046', 0.02707],\n",
              " ['1609196055', 0.02707],\n",
              " ['1609196058', 0.02707],\n",
              " ['1609196061', 0.02707],\n",
              " ['1609196063', 0.02707],\n",
              " ['1609196066', 0.02707],\n",
              " ['1609196069', 0.02707],\n",
              " ['1609196071', 0.02707],\n",
              " ['1609196073', 0.02707],\n",
              " ['1609196076', 0.02707],\n",
              " ['1609196077', 0.02707],\n",
              " ['1609196079', 0.02707],\n",
              " ['1609196082', 0.02707],\n",
              " ['1609196084', 0.02707],\n",
              " ['1609196085', 0.02707],\n",
              " ['1609196087', 0.02707],\n",
              " ['1609196088', 0.02707],\n",
              " ['1609196091', 0.02707],\n",
              " ['1609196093', 0.02707],\n",
              " ['1609196094', 0.02707],\n",
              " ['1609196096', 0.02707],\n",
              " ['1609196099', 0.02707],\n",
              " ['1609196101', 0.02707],\n",
              " ['1609196102', 0.02707],\n",
              " ['1609196104', 0.02707],\n",
              " ['1609196105', 0.02707],\n",
              " ['1609196107', 0.02707],\n",
              " ['1609196110', 0.02707],\n",
              " ['1609196112', 0.02707],\n",
              " ['1609196115', 0.02707],\n",
              " ['1609196117', 0.02707],\n",
              " ['1609196118', 0.02707],\n",
              " ['1609196123', 0.02707],\n",
              " ['1609196125', 0.02707],\n",
              " ['1609196127', 0.02707],\n",
              " ['1609196128', 0.02707],\n",
              " ['1609196130', 0.02707],\n",
              " ['1609196131', 0.02707],\n",
              " ['1609196133', 0.02707],\n",
              " ['1609196135', 0.02707],\n",
              " ['1609196139', 0.02707],\n",
              " ['1609196144', 0.02707],\n",
              " ['1609196147', 0.02707],\n",
              " ['1609196150', 0.02707],\n",
              " ['1609196152', 0.02707],\n",
              " ['1609196154', 0.02707],\n",
              " ['1609196155', 0.02707],\n",
              " ['1609196158', 0.02707],\n",
              " ['1609196163', 0.02707],\n",
              " ['1609196166', 0.02707],\n",
              " ['1609196168', 0.02707],\n",
              " ['1609196169', 0.02707],\n",
              " ['1609196172', 0.02707],\n",
              " ['1609196174', 0.02707],\n",
              " ['1609196176', 0.02707],\n",
              " ['1609196180', 0.02707],\n",
              " ['1609196186', 0.02707],\n",
              " ['1609196187', 0.02707],\n",
              " ['1609196191', 0.02707],\n",
              " ['1609196192', 0.02707],\n",
              " ['1609196207', 0.02707],\n",
              " ['1609196210', 0.02707],\n",
              " ['1609196213', 0.02707]]"
            ]
          },
          "metadata": {
            "tags": []
          },
          "execution_count": 19
        }
      ]
    },
    {
      "cell_type": "markdown",
      "metadata": {
        "id": "FCLKDxCyofQN"
      },
      "source": [
        "# **Inlux DB**"
      ]
    },
    {
      "cell_type": "code",
      "metadata": {
        "colab": {
          "base_uri": "https://localhost:8080/"
        },
        "id": "4M6ceJyHJZwA",
        "outputId": "eff99131-d628-4e0c-c92f-bb2486a3fd81"
      },
      "source": [
        "!pip install influxdb"
      ],
      "execution_count": 20,
      "outputs": [
        {
          "output_type": "stream",
          "text": [
            "Collecting influxdb\n",
            "\u001b[?25l  Downloading https://files.pythonhosted.org/packages/01/95/3a72ea5e19df828d27af0a50092f2b24114a5f89922efb4d8a0960bf13ef/influxdb-5.3.1-py2.py3-none-any.whl (77kB)\n",
            "\r\u001b[K     |████▏                           | 10kB 14.6MB/s eta 0:00:01\r\u001b[K     |████████▍                       | 20kB 20.6MB/s eta 0:00:01\r\u001b[K     |████████████▋                   | 30kB 12.8MB/s eta 0:00:01\r\u001b[K     |████████████████▉               | 40kB 11.1MB/s eta 0:00:01\r\u001b[K     |█████████████████████           | 51kB 5.5MB/s eta 0:00:01\r\u001b[K     |█████████████████████████▎      | 61kB 6.1MB/s eta 0:00:01\r\u001b[K     |█████████████████████████████▍  | 71kB 6.2MB/s eta 0:00:01\r\u001b[K     |████████████████████████████████| 81kB 4.1MB/s \n",
            "\u001b[?25hRequirement already satisfied: requests>=2.17.0 in /usr/local/lib/python3.6/dist-packages (from influxdb) (2.23.0)\n",
            "Requirement already satisfied: six>=1.10.0 in /usr/local/lib/python3.6/dist-packages (from influxdb) (1.15.0)\n",
            "Requirement already satisfied: python-dateutil>=2.6.0 in /usr/local/lib/python3.6/dist-packages (from influxdb) (2.8.1)\n",
            "Requirement already satisfied: pytz in /usr/local/lib/python3.6/dist-packages (from influxdb) (2018.9)\n",
            "Requirement already satisfied: msgpack in /usr/local/lib/python3.6/dist-packages (from influxdb) (1.0.1)\n",
            "Requirement already satisfied: chardet<4,>=3.0.2 in /usr/local/lib/python3.6/dist-packages (from requests>=2.17.0->influxdb) (3.0.4)\n",
            "Requirement already satisfied: urllib3!=1.25.0,!=1.25.1,<1.26,>=1.21.1 in /usr/local/lib/python3.6/dist-packages (from requests>=2.17.0->influxdb) (1.24.3)\n",
            "Requirement already satisfied: idna<3,>=2.5 in /usr/local/lib/python3.6/dist-packages (from requests>=2.17.0->influxdb) (2.10)\n",
            "Requirement already satisfied: certifi>=2017.4.17 in /usr/local/lib/python3.6/dist-packages (from requests>=2.17.0->influxdb) (2020.12.5)\n",
            "Installing collected packages: influxdb\n",
            "Successfully installed influxdb-5.3.1\n"
          ],
          "name": "stdout"
        }
      ]
    },
    {
      "cell_type": "code",
      "metadata": {
        "colab": {
          "base_uri": "https://localhost:8080/"
        },
        "id": "WYLwkVnDJlYI",
        "outputId": "4f6389ab-f05e-4435-94e7-3be7cd65ad1f"
      },
      "source": [
        "!sudo apt-get update && sudo apt-get install influxdb"
      ],
      "execution_count": 21,
      "outputs": [
        {
          "output_type": "stream",
          "text": [
            "\r0% [Working]\r            \rGet:1 https://cloud.r-project.org/bin/linux/ubuntu bionic-cran40/ InRelease [3,626 B]\n",
            "Ign:2 https://developer.download.nvidia.com/compute/cuda/repos/ubuntu1804/x86_64  InRelease\n",
            "Ign:3 https://developer.download.nvidia.com/compute/machine-learning/repos/ubuntu1804/x86_64  InRelease\n",
            "Hit:4 https://developer.download.nvidia.com/compute/cuda/repos/ubuntu1804/x86_64  Release\n",
            "Get:5 http://ppa.launchpad.net/c2d4u.team/c2d4u4.0+/ubuntu bionic InRelease [15.9 kB]\n",
            "Hit:6 https://developer.download.nvidia.com/compute/machine-learning/repos/ubuntu1804/x86_64  Release\n",
            "Get:7 http://security.ubuntu.com/ubuntu bionic-security InRelease [88.7 kB]\n",
            "Hit:8 http://archive.ubuntu.com/ubuntu bionic InRelease\n",
            "Get:9 https://cloud.r-project.org/bin/linux/ubuntu bionic-cran40/ Packages [41.5 kB]\n",
            "Get:11 http://archive.ubuntu.com/ubuntu bionic-updates InRelease [88.7 kB]\n",
            "Hit:13 http://ppa.launchpad.net/cran/libgit2/ubuntu bionic InRelease\n",
            "Hit:14 http://ppa.launchpad.net/graphics-drivers/ppa/ubuntu bionic InRelease\n",
            "Get:15 http://archive.ubuntu.com/ubuntu bionic-backports InRelease [74.6 kB]\n",
            "Get:16 http://ppa.launchpad.net/c2d4u.team/c2d4u4.0+/ubuntu bionic/main Sources [1,704 kB]\n",
            "Get:17 http://ppa.launchpad.net/c2d4u.team/c2d4u4.0+/ubuntu bionic/main amd64 Packages [873 kB]\n",
            "Fetched 2,890 kB in 2s (1,245 kB/s)\n",
            "Reading package lists... Done\n",
            "Reading package lists... Done\n",
            "Building dependency tree       \n",
            "Reading state information... Done\n",
            "The following NEW packages will be installed:\n",
            "  influxdb\n",
            "0 upgraded, 1 newly installed, 0 to remove and 19 not upgraded.\n",
            "Need to get 2,813 kB of archives.\n",
            "After this operation, 10.7 MB of additional disk space will be used.\n",
            "Get:1 http://archive.ubuntu.com/ubuntu bionic/universe amd64 influxdb amd64 1.1.1+dfsg1-4 [2,813 kB]\n",
            "Fetched 2,813 kB in 1s (2,486 kB/s)\n",
            "debconf: unable to initialize frontend: Dialog\n",
            "debconf: (No usable dialog-like program is installed, so the dialog based frontend cannot be used. at /usr/share/perl5/Debconf/FrontEnd/Dialog.pm line 76, <> line 1.)\n",
            "debconf: falling back to frontend: Readline\n",
            "debconf: unable to initialize frontend: Readline\n",
            "debconf: (This frontend requires a controlling tty.)\n",
            "debconf: falling back to frontend: Teletype\n",
            "dpkg-preconfigure: unable to re-open stdin: \n",
            "Selecting previously unselected package influxdb.\n",
            "(Reading database ... 145823 files and directories currently installed.)\n",
            "Preparing to unpack .../influxdb_1.1.1+dfsg1-4_amd64.deb ...\n",
            "Unpacking influxdb (1.1.1+dfsg1-4) ...\n",
            "Setting up influxdb (1.1.1+dfsg1-4) ...\n",
            "Adding system user `influxdb' (UID 105) ...\n",
            "Adding new user `influxdb' (UID 105) with group `nogroup' ...\n",
            "Not creating home directory `/var/lib/influxdb'.\n",
            "Adding group `influxdb' (GID 109) ...\n",
            "Done.\n",
            "Adding user `influxdb' to group `influxdb' ...\n",
            "Adding user influxdb to group influxdb\n",
            "Done.\n",
            "Created symlink /etc/systemd/system/influxd.service → /lib/systemd/system/influxdb.service.\n",
            "Created symlink /etc/systemd/system/multi-user.target.wants/influxdb.service → /lib/systemd/system/influxdb.service.\n",
            "invoke-rc.d: could not determine current runlevel\n",
            "invoke-rc.d: policy-rc.d denied execution of start.\n",
            "Processing triggers for man-db (2.8.3-2ubuntu0.1) ...\n",
            "Processing triggers for systemd (237-3ubuntu10.43) ...\n"
          ],
          "name": "stdout"
        }
      ]
    },
    {
      "cell_type": "code",
      "metadata": {
        "colab": {
          "base_uri": "https://localhost:8080/"
        },
        "id": "_rUb4bsoJlSr",
        "outputId": "d9d4d96e-d9d2-493e-d6be-23e7e3cb31f3"
      },
      "source": [
        "!sudo service influxdb start"
      ],
      "execution_count": 23,
      "outputs": [
        {
          "output_type": "stream",
          "text": [
            " * Starting database influxd\n",
            "   ...done.\n"
          ],
          "name": "stdout"
        }
      ]
    },
    {
      "cell_type": "code",
      "metadata": {
        "id": "jfCMayDLJuBl"
      },
      "source": [
        "from influxdb import InfluxDBClient\n",
        "client = InfluxDBClient(host='localhost', port=8086)"
      ],
      "execution_count": 24,
      "outputs": []
    },
    {
      "cell_type": "code",
      "metadata": {
        "id": "8n93J5SgK6HX"
      },
      "source": [
        "client.create_database('coinbase_trade')"
      ],
      "execution_count": 25,
      "outputs": []
    },
    {
      "cell_type": "code",
      "metadata": {
        "colab": {
          "base_uri": "https://localhost:8080/"
        },
        "id": "4TLXx3a6K7KW",
        "outputId": "48ad3949-b4c6-44ac-8a01-5fee5e913eb0"
      },
      "source": [
        "client.get_list_database()"
      ],
      "execution_count": 26,
      "outputs": [
        {
          "output_type": "execute_result",
          "data": {
            "text/plain": [
              "[{'name': '_internal'}, {'name': 'coinbase_trade'}]"
            ]
          },
          "metadata": {
            "tags": []
          },
          "execution_count": 26
        }
      ]
    },
    {
      "cell_type": "code",
      "metadata": {
        "id": "VG8buSQiLGUi"
      },
      "source": [
        "def influx(partitions):\n",
        "    result = []\n",
        "    for i in range(np.array(partitions).shape[0] - 1):\n",
        "        result.append('coinbase_trade date='+partitions[i][0]+','+'price='+ str(partitions[i][1]))\n",
        "    return result"
      ],
      "execution_count": 31,
      "outputs": []
    },
    {
      "cell_type": "code",
      "metadata": {
        "id": "9yYcAB3PLHp5"
      },
      "source": [
        "inf_final=final_cb.mapPartitions(influx)  "
      ],
      "execution_count": 32,
      "outputs": []
    },
    {
      "cell_type": "code",
      "metadata": {
        "colab": {
          "base_uri": "https://localhost:8080/"
        },
        "id": "6vhpNaAiLjEW",
        "outputId": "73727f6b-146e-4829-a79c-709404fd7e3c"
      },
      "source": [
        "inf_final.take(2)"
      ],
      "execution_count": 33,
      "outputs": [
        {
          "output_type": "execute_result",
          "data": {
            "text/plain": [
              "['coinbase_trade date=1609195950,price=0.02707',\n",
              " 'coinbase_trade date=1609195951,price=0.02707']"
            ]
          },
          "metadata": {
            "tags": []
          },
          "execution_count": 33
        }
      ]
    },
    {
      "cell_type": "code",
      "metadata": {
        "colab": {
          "base_uri": "https://localhost:8080/"
        },
        "id": "4RzV-mrzMOah",
        "outputId": "72d41f7d-b0d2-4ab5-be58-4e2ace4e7f75"
      },
      "source": [
        "client.write_points(inf_final.collect(), database='coinbase_trade', time_precision='ms', batch_size=1, protocol='line')"
      ],
      "execution_count": 34,
      "outputs": [
        {
          "output_type": "execute_result",
          "data": {
            "text/plain": [
              "True"
            ]
          },
          "metadata": {
            "tags": []
          },
          "execution_count": 34
        }
      ]
    },
    {
      "cell_type": "code",
      "metadata": {
        "id": "h_2ViC3sOTxp"
      },
      "source": [
        "client.switch_database('coinbase_trade')"
      ],
      "execution_count": 35,
      "outputs": []
    },
    {
      "cell_type": "code",
      "metadata": {
        "id": "SybUilvdOVwK"
      },
      "source": [
        "q='select * from coinbase_trade.autogen.coinbase_trade'\n",
        "bin_trade = pd.DataFrame(client.query(q).get_points())"
      ],
      "execution_count": 37,
      "outputs": []
    },
    {
      "cell_type": "code",
      "metadata": {
        "colab": {
          "base_uri": "https://localhost:8080/",
          "height": 419
        },
        "id": "tW_FiP8KoI59",
        "outputId": "ff072d42-73bd-4634-9948-f354e5ab9869"
      },
      "source": [
        "bin_trade"
      ],
      "execution_count": 38,
      "outputs": [
        {
          "output_type": "execute_result",
          "data": {
            "text/html": [
              "<div>\n",
              "<style scoped>\n",
              "    .dataframe tbody tr th:only-of-type {\n",
              "        vertical-align: middle;\n",
              "    }\n",
              "\n",
              "    .dataframe tbody tr th {\n",
              "        vertical-align: top;\n",
              "    }\n",
              "\n",
              "    .dataframe thead th {\n",
              "        text-align: right;\n",
              "    }\n",
              "</style>\n",
              "<table border=\"1\" class=\"dataframe\">\n",
              "  <thead>\n",
              "    <tr style=\"text-align: right;\">\n",
              "      <th></th>\n",
              "      <th>time</th>\n",
              "      <th>date</th>\n",
              "      <th>price</th>\n",
              "    </tr>\n",
              "  </thead>\n",
              "  <tbody>\n",
              "    <tr>\n",
              "      <th>0</th>\n",
              "      <td>2021-01-03T14:20:10.031Z</td>\n",
              "      <td>1.609196e+09</td>\n",
              "      <td>0.02707</td>\n",
              "    </tr>\n",
              "    <tr>\n",
              "      <th>1</th>\n",
              "      <td>2021-01-03T14:20:10.051Z</td>\n",
              "      <td>1.609196e+09</td>\n",
              "      <td>0.02707</td>\n",
              "    </tr>\n",
              "    <tr>\n",
              "      <th>2</th>\n",
              "      <td>2021-01-03T14:20:10.058Z</td>\n",
              "      <td>1.609196e+09</td>\n",
              "      <td>0.02707</td>\n",
              "    </tr>\n",
              "    <tr>\n",
              "      <th>3</th>\n",
              "      <td>2021-01-03T14:20:10.066Z</td>\n",
              "      <td>1.609196e+09</td>\n",
              "      <td>0.02707</td>\n",
              "    </tr>\n",
              "    <tr>\n",
              "      <th>4</th>\n",
              "      <td>2021-01-03T14:20:10.072Z</td>\n",
              "      <td>1.609196e+09</td>\n",
              "      <td>0.02707</td>\n",
              "    </tr>\n",
              "    <tr>\n",
              "      <th>...</th>\n",
              "      <td>...</td>\n",
              "      <td>...</td>\n",
              "      <td>...</td>\n",
              "    </tr>\n",
              "    <tr>\n",
              "      <th>10043</th>\n",
              "      <td>2021-01-03T14:21:18.076Z</td>\n",
              "      <td>1.609239e+09</td>\n",
              "      <td>0.02725</td>\n",
              "    </tr>\n",
              "    <tr>\n",
              "      <th>10044</th>\n",
              "      <td>2021-01-03T14:21:18.084Z</td>\n",
              "      <td>1.609239e+09</td>\n",
              "      <td>0.02725</td>\n",
              "    </tr>\n",
              "    <tr>\n",
              "      <th>10045</th>\n",
              "      <td>2021-01-03T14:21:18.092Z</td>\n",
              "      <td>1.609239e+09</td>\n",
              "      <td>0.02725</td>\n",
              "    </tr>\n",
              "    <tr>\n",
              "      <th>10046</th>\n",
              "      <td>2021-01-03T14:21:18.098Z</td>\n",
              "      <td>1.609239e+09</td>\n",
              "      <td>0.02725</td>\n",
              "    </tr>\n",
              "    <tr>\n",
              "      <th>10047</th>\n",
              "      <td>2021-01-03T14:21:18.105Z</td>\n",
              "      <td>1.609239e+09</td>\n",
              "      <td>0.02725</td>\n",
              "    </tr>\n",
              "  </tbody>\n",
              "</table>\n",
              "<p>10048 rows × 3 columns</p>\n",
              "</div>"
            ],
            "text/plain": [
              "                           time          date    price\n",
              "0      2021-01-03T14:20:10.031Z  1.609196e+09  0.02707\n",
              "1      2021-01-03T14:20:10.051Z  1.609196e+09  0.02707\n",
              "2      2021-01-03T14:20:10.058Z  1.609196e+09  0.02707\n",
              "3      2021-01-03T14:20:10.066Z  1.609196e+09  0.02707\n",
              "4      2021-01-03T14:20:10.072Z  1.609196e+09  0.02707\n",
              "...                         ...           ...      ...\n",
              "10043  2021-01-03T14:21:18.076Z  1.609239e+09  0.02725\n",
              "10044  2021-01-03T14:21:18.084Z  1.609239e+09  0.02725\n",
              "10045  2021-01-03T14:21:18.092Z  1.609239e+09  0.02725\n",
              "10046  2021-01-03T14:21:18.098Z  1.609239e+09  0.02725\n",
              "10047  2021-01-03T14:21:18.105Z  1.609239e+09  0.02725\n",
              "\n",
              "[10048 rows x 3 columns]"
            ]
          },
          "metadata": {
            "tags": []
          },
          "execution_count": 38
        }
      ]
    }
  ]
}