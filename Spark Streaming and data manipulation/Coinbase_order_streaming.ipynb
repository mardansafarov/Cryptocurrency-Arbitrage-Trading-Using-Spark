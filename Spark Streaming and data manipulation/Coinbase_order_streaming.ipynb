{
  "nbformat": 4,
  "nbformat_minor": 0,
  "metadata": {
    "colab": {
      "name": "Coinbase_order_streaming.ipynb",
      "provenance": [],
      "collapsed_sections": []
    },
    "kernelspec": {
      "name": "python3",
      "display_name": "Python 3"
    }
  },
  "cells": [
    {
      "cell_type": "code",
      "metadata": {
        "id": "_OSwU6t9qb_s"
      },
      "source": [
        "# Importing necessary libraries\r\n",
        "import numpy as np\r\n",
        "import pandas as pd"
      ],
      "execution_count": null,
      "outputs": []
    },
    {
      "cell_type": "code",
      "metadata": {
        "colab": {
          "base_uri": "https://localhost:8080/"
        },
        "id": "FwaUDN0Hqfsa",
        "outputId": "8f4feabb-effa-441e-ce22-27c64ab095d0"
      },
      "source": [
        "# Mounting Google Drive to read Numpy file \r\n",
        "from google.colab import drive\r\n",
        "drive.mount('/content/drive')"
      ],
      "execution_count": null,
      "outputs": [
        {
          "output_type": "stream",
          "text": [
            "Mounted at /content/drive\n"
          ],
          "name": "stdout"
        }
      ]
    },
    {
      "cell_type": "code",
      "metadata": {
        "colab": {
          "base_uri": "https://localhost:8080/"
        },
        "id": "LBMcC8MJqmJ9",
        "outputId": "e7d1fe0f-45b8-4ca5-b125-52fad9041ed9"
      },
      "source": [
        "# Loan and read Numpy file\r\n",
        "coinbase = np.load('/content/coinbase_order_array.npy', allow_pickle=True)\r\n",
        "coinbase"
      ],
      "execution_count": null,
      "outputs": [
        {
          "output_type": "execute_result",
          "data": {
            "text/plain": [
              "array([{'bids': [['0.02706', '0.3941605', 2]], 'asks': [['0.02707', '17.115', 2]], 'sequence': 2517907125, 'time': 1609195957834},\n",
              "       {'bids': [['0.02706', '0.1191605', 1]], 'asks': [['0.02707', '3.075', 3]], 'sequence': 2517907249, 'time': 1609195959133},\n",
              "       {'bids': [['0.02707', '2.8', 1]], 'asks': [['0.02708', '24.03321021', 4]], 'sequence': 2517907434, 'time': 1609195960437},\n",
              "       ...,\n",
              "       {'bids': [['0.0273', '11.82427217', 3]], 'asks': [['0.02731', '5.87095917', 2]], 'sequence': 2519953418, 'time': 1609239371302},\n",
              "       {'bids': [['0.02729', '24.01996707', 7]], 'asks': [['0.0273', '5.87095917', 2]], 'sequence': 2519953656, 'time': 1609239373100},\n",
              "       {'bids': [['0.02729', '29.53056707', 7]], 'asks': [['0.0273', '5.87095917', 2]], 'sequence': 2519953695, 'time': 1609239374755}],\n",
              "      dtype=object)"
            ]
          },
          "metadata": {
            "tags": []
          },
          "execution_count": 3
        }
      ]
    },
    {
      "cell_type": "code",
      "metadata": {
        "colab": {
          "base_uri": "https://localhost:8080/"
        },
        "id": "tGemj4qKqs_l",
        "outputId": "5ed4ef1e-4b19-4c5a-e97b-75848c451700"
      },
      "source": [
        "# Installing Python Spark\r\n",
        "!pip install pyspark"
      ],
      "execution_count": null,
      "outputs": [
        {
          "output_type": "stream",
          "text": [
            "Collecting pyspark\n",
            "\u001b[?25l  Downloading https://files.pythonhosted.org/packages/f0/26/198fc8c0b98580f617cb03cb298c6056587b8f0447e20fa40c5b634ced77/pyspark-3.0.1.tar.gz (204.2MB)\n",
            "\u001b[K     |████████████████████████████████| 204.2MB 64kB/s \n",
            "\u001b[?25hCollecting py4j==0.10.9\n",
            "\u001b[?25l  Downloading https://files.pythonhosted.org/packages/9e/b6/6a4fb90cd235dc8e265a6a2067f2a2c99f0d91787f06aca4bcf7c23f3f80/py4j-0.10.9-py2.py3-none-any.whl (198kB)\n",
            "\u001b[K     |████████████████████████████████| 204kB 39.7MB/s \n",
            "\u001b[?25hBuilding wheels for collected packages: pyspark\n",
            "  Building wheel for pyspark (setup.py) ... \u001b[?25l\u001b[?25hdone\n",
            "  Created wheel for pyspark: filename=pyspark-3.0.1-py2.py3-none-any.whl size=204612242 sha256=781a0d02e86fbb2982bed78b1a7b0bd99cb943034a6e5342c046aad8b0e19df8\n",
            "  Stored in directory: /root/.cache/pip/wheels/5e/bd/07/031766ca628adec8435bb40f0bd83bb676ce65ff4007f8e73f\n",
            "Successfully built pyspark\n",
            "Installing collected packages: py4j, pyspark\n",
            "Successfully installed py4j-0.10.9 pyspark-3.0.1\n"
          ],
          "name": "stdout"
        }
      ]
    },
    {
      "cell_type": "code",
      "metadata": {
        "id": "KCzj0PaMqs9H"
      },
      "source": [
        "# Importing necessary Spark libraries\r\n",
        "from pyspark import SparkContext\r\n",
        "from pyspark import SparkConf\r\n",
        "from pyspark.ml.linalg import Vectors\r\n",
        "import pyspark\r\n",
        "from pyspark.sql.functions import udf\r\n",
        "from pyspark.sql.types import FloatType\r\n",
        "from pyspark.sql import SparkSession\r\n",
        "from pyspark import SparkContext\r\n",
        "from pyspark.streaming import StreamingContext"
      ],
      "execution_count": null,
      "outputs": []
    },
    {
      "cell_type": "code",
      "metadata": {
        "id": "mlr09X1Gqs1j"
      },
      "source": [
        "spark = SparkSession.builder.getOrCreate()"
      ],
      "execution_count": null,
      "outputs": []
    },
    {
      "cell_type": "code",
      "metadata": {
        "id": "jvqzdD5pr1nl"
      },
      "source": [
        "#Making streaming for 10 seconds\r\n",
        "sc = spark.sparkContext\r\n",
        "ssc = StreamingContext(sc, 10)\r\n",
        "rdd = ssc.sparkContext.parallelize(coinbase)"
      ],
      "execution_count": null,
      "outputs": []
    },
    {
      "cell_type": "code",
      "metadata": {
        "id": "dGhBaC4rdXaU"
      },
      "source": [
        "def column(matrix, i):\r\n",
        "    return [row[i] for row in matrix]"
      ],
      "execution_count": null,
      "outputs": []
    },
    {
      "cell_type": "code",
      "metadata": {
        "id": "gKd3V0zpr1hN"
      },
      "source": [
        "#Mapping RDD \r\n",
        "rdd = rdd.map(lambda x: (x['time'], x['asks'], x['bids']))"
      ],
      "execution_count": null,
      "outputs": []
    },
    {
      "cell_type": "code",
      "metadata": {
        "colab": {
          "base_uri": "https://localhost:8080/"
        },
        "id": "TNgXHkiYosya",
        "outputId": "5abfafce-f779-44cf-f37e-f29cc8514c54"
      },
      "source": [
        "rdd.take(5)"
      ],
      "execution_count": null,
      "outputs": [
        {
          "output_type": "execute_result",
          "data": {
            "text/plain": [
              "[(1609195957834, [['0.02707', '17.115', 2]], [['0.02706', '0.3941605', 2]]),\n",
              " (1609195959133, [['0.02707', '3.075', 3]], [['0.02706', '0.1191605', 1]]),\n",
              " (1609195960437, [['0.02708', '24.03321021', 4]], [['0.02707', '2.8', 1]]),\n",
              " (1609195962189,\n",
              "  [['0.02709', '22.27755749', 2]],\n",
              "  [['0.02708', '4.84406447', 3]]),\n",
              " (1609195963505,\n",
              "  [['0.02709', '22.27755749', 2]],\n",
              "  [['0.02708', '4.84406447', 3]])]"
            ]
          },
          "metadata": {
            "tags": []
          },
          "execution_count": 57
        }
      ]
    },
    {
      "cell_type": "code",
      "metadata": {
        "id": "dNNIAR4yCxmM"
      },
      "source": [
        "# Function to find max and min\n",
        "def min_max(iterator):\n",
        "\n",
        "   \n",
        "    asks=[]\n",
        "    for x in iterator:\n",
        "\n",
        "      asks.append([x[0],x[1][0][0], x[2][0][0]])\n",
        "\n",
        "    return asks"
      ],
      "execution_count": null,
      "outputs": []
    },
    {
      "cell_type": "code",
      "metadata": {
        "id": "NurZYXT90AGU"
      },
      "source": [
        "final = rdd.mapPartitions(min_max)"
      ],
      "execution_count": null,
      "outputs": []
    },
    {
      "cell_type": "code",
      "metadata": {
        "colab": {
          "base_uri": "https://localhost:8080/"
        },
        "id": "AXUOopt2tdOI",
        "outputId": "0810d315-c87f-4100-c9d4-9a0181632f80"
      },
      "source": [
        "# Displaying the final result\r\n",
        "final.take(5)"
      ],
      "execution_count": null,
      "outputs": [
        {
          "output_type": "execute_result",
          "data": {
            "text/plain": [
              "[[1609195957834, '0.02707', '0.02706'],\n",
              " [1609195959133, '0.02707', '0.02706'],\n",
              " [1609195960437, '0.02708', '0.02707'],\n",
              " [1609195962189, '0.02709', '0.02708'],\n",
              " [1609195963505, '0.02709', '0.02708']]"
            ]
          },
          "metadata": {
            "tags": []
          },
          "execution_count": 70
        }
      ]
    },
    {
      "cell_type": "code",
      "metadata": {
        "id": "NgrIoj3Oc4ty"
      },
      "source": [
        ""
      ],
      "execution_count": null,
      "outputs": []
    }
  ]
}