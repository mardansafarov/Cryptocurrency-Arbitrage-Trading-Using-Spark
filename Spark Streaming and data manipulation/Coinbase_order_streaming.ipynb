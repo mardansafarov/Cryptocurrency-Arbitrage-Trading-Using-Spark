{
  "nbformat": 4,
  "nbformat_minor": 0,
  "metadata": {
    "colab": {
      "name": "Coinbase_order_streaming.ipynb",
      "provenance": [],
      "collapsed_sections": []
    },
    "kernelspec": {
      "name": "python3",
      "display_name": "Python 3"
    }
  },
  "cells": [
    {
      "cell_type": "code",
      "metadata": {
        "id": "_OSwU6t9qb_s"
      },
      "source": [
        "import numpy as np\r\n",
        "import pandas as pd"
      ],
      "execution_count": null,
      "outputs": []
    },
    {
      "cell_type": "code",
      "metadata": {
        "colab": {
          "base_uri": "https://localhost:8080/"
        },
        "id": "LBMcC8MJqmJ9",
        "outputId": "474e591f-b944-4e6e-9268-b122c68718a3"
      },
      "source": [
        "coinbase = np.load('/content/coinbase_order_array.npy', allow_pickle=True)\r\n",
        "coinbase"
      ],
      "execution_count": null,
      "outputs": [
        {
          "output_type": "execute_result",
          "data": {
            "text/plain": [
              "array([{'bids': [['0.02706', '0.3941605', 2]], 'asks': [['0.02707', '17.115', 2]], 'sequence': 2517907125, 'time': 1609195957834},\n",
              "       {'bids': [['0.02706', '0.1191605', 1]], 'asks': [['0.02707', '3.075', 3]], 'sequence': 2517907249, 'time': 1609195959133},\n",
              "       {'bids': [['0.02707', '2.8', 1]], 'asks': [['0.02708', '24.03321021', 4]], 'sequence': 2517907434, 'time': 1609195960437},\n",
              "       ...,\n",
              "       {'bids': [['0.0273', '11.82427217', 3]], 'asks': [['0.02731', '5.87095917', 2]], 'sequence': 2519953418, 'time': 1609239371302},\n",
              "       {'bids': [['0.02729', '24.01996707', 7]], 'asks': [['0.0273', '5.87095917', 2]], 'sequence': 2519953656, 'time': 1609239373100},\n",
              "       {'bids': [['0.02729', '29.53056707', 7]], 'asks': [['0.0273', '5.87095917', 2]], 'sequence': 2519953695, 'time': 1609239374755}],\n",
              "      dtype=object)"
            ]
          },
          "metadata": {
            "tags": []
          },
          "execution_count": 2
        }
      ]
    },
    {
      "cell_type": "code",
      "metadata": {
        "colab": {
          "base_uri": "https://localhost:8080/"
        },
        "id": "tGemj4qKqs_l",
        "outputId": "395b577b-9256-441b-9f19-39e4b9a89d2b"
      },
      "source": [
        "!pip install pyspark"
      ],
      "execution_count": null,
      "outputs": [
        {
          "output_type": "stream",
          "text": [
            "Collecting pyspark\n",
            "\u001b[?25l  Downloading https://files.pythonhosted.org/packages/f0/26/198fc8c0b98580f617cb03cb298c6056587b8f0447e20fa40c5b634ced77/pyspark-3.0.1.tar.gz (204.2MB)\n",
            "\u001b[K     |████████████████████████████████| 204.2MB 63kB/s \n",
            "\u001b[?25hCollecting py4j==0.10.9\n",
            "\u001b[?25l  Downloading https://files.pythonhosted.org/packages/9e/b6/6a4fb90cd235dc8e265a6a2067f2a2c99f0d91787f06aca4bcf7c23f3f80/py4j-0.10.9-py2.py3-none-any.whl (198kB)\n",
            "\u001b[K     |████████████████████████████████| 204kB 43.4MB/s \n",
            "\u001b[?25hBuilding wheels for collected packages: pyspark\n",
            "  Building wheel for pyspark (setup.py) ... \u001b[?25l\u001b[?25hdone\n",
            "  Created wheel for pyspark: filename=pyspark-3.0.1-py2.py3-none-any.whl size=204612242 sha256=aa63b83a4b7976c14c64640b2bb7fe4e36fabc31c56b8ebc9cd3a5d6c14bcde1\n",
            "  Stored in directory: /root/.cache/pip/wheels/5e/bd/07/031766ca628adec8435bb40f0bd83bb676ce65ff4007f8e73f\n",
            "Successfully built pyspark\n",
            "Installing collected packages: py4j, pyspark\n",
            "Successfully installed py4j-0.10.9 pyspark-3.0.1\n"
          ],
          "name": "stdout"
        }
      ]
    },
    {
      "cell_type": "code",
      "metadata": {
        "id": "KCzj0PaMqs9H"
      },
      "source": [
        "from pyspark import SparkContext\r\n",
        "from pyspark import SparkConf\r\n",
        "from pyspark.ml.linalg import Vectors\r\n",
        "import pyspark\r\n",
        "from pyspark.sql.functions import udf\r\n",
        "from pyspark.sql.types import FloatType"
      ],
      "execution_count": null,
      "outputs": []
    },
    {
      "cell_type": "code",
      "metadata": {
        "id": "d6n4qB1zsCv4"
      },
      "source": [
        "from pyspark.sql import SparkSession\r\n",
        "from pyspark import SparkContext\r\n",
        "from pyspark.streaming import StreamingContext"
      ],
      "execution_count": null,
      "outputs": []
    },
    {
      "cell_type": "code",
      "metadata": {
        "id": "mlr09X1Gqs1j"
      },
      "source": [
        "spark = SparkSession.builder.getOrCreate()"
      ],
      "execution_count": null,
      "outputs": []
    },
    {
      "cell_type": "code",
      "metadata": {
        "id": "jvqzdD5pr1nl"
      },
      "source": [
        "sc = spark.sparkContext\r\n",
        "ssc = StreamingContext(sc, 10)\r\n",
        "rdd = ssc.sparkContext.parallelize(coinbase)"
      ],
      "execution_count": null,
      "outputs": []
    },
    {
      "cell_type": "code",
      "metadata": {
        "id": "gKd3V0zpr1hN"
      },
      "source": [
        "rdd = rdd.map(lambda x: (x['time'], x['bids'], x['asks']))"
      ],
      "execution_count": null,
      "outputs": []
    },
    {
      "cell_type": "code",
      "metadata": {
        "colab": {
          "base_uri": "https://localhost:8080/"
        },
        "id": "TNgXHkiYosya",
        "outputId": "00f4a6e9-b10d-476a-d633-dbfc292a2c9c"
      },
      "source": [
        "rdd.take(5)"
      ],
      "execution_count": null,
      "outputs": [
        {
          "output_type": "execute_result",
          "data": {
            "text/plain": [
              "[(1609195957834, [['0.02706', '0.3941605', 2]], [['0.02707', '17.115', 2]]),\n",
              " (1609195959133, [['0.02706', '0.1191605', 1]], [['0.02707', '3.075', 3]]),\n",
              " (1609195960437, [['0.02707', '2.8', 1]], [['0.02708', '24.03321021', 4]]),\n",
              " (1609195962189,\n",
              "  [['0.02708', '4.84406447', 3]],\n",
              "  [['0.02709', '22.27755749', 2]]),\n",
              " (1609195963505,\n",
              "  [['0.02708', '4.84406447', 3]],\n",
              "  [['0.02709', '22.27755749', 2]])]"
            ]
          },
          "metadata": {
            "tags": []
          },
          "execution_count": 16
        }
      ]
    },
    {
      "cell_type": "code",
      "metadata": {
        "id": "dNNIAR4yCxmM"
      },
      "source": [
        "def min_max(iterator):\n",
        "\n",
        "   \n",
        "    asks=[]\n",
        "    for x in iterator:\n",
        "\n",
        "      asks.append([x[0],x[1][0][0], x[2][0][0]])\n",
        "\n",
        "    return asks"
      ],
      "execution_count": null,
      "outputs": []
    },
    {
      "cell_type": "code",
      "metadata": {
        "id": "NurZYXT90AGU"
      },
      "source": [
        "final = rdd.mapPartitions(min_max)"
      ],
      "execution_count": null,
      "outputs": []
    },
    {
      "cell_type": "code",
      "metadata": {
        "colab": {
          "base_uri": "https://localhost:8080/"
        },
        "id": "AXUOopt2tdOI",
        "outputId": "932a5464-1a08-4260-82e6-8df807a5ac5d"
      },
      "source": [
        "final.take(10)"
      ],
      "execution_count": null,
      "outputs": [
        {
          "output_type": "execute_result",
          "data": {
            "text/plain": [
              "[[1609195957834, '0.02706', '0.02707'],\n",
              " [1609195959133, '0.02706', '0.02707'],\n",
              " [1609195960437, '0.02707', '0.02708'],\n",
              " [1609195962189, '0.02708', '0.02709'],\n",
              " [1609195963505, '0.02708', '0.02709'],\n",
              " [1609195964789, '0.02709', '0.0271'],\n",
              " [1609195966189, '0.02709', '0.02711'],\n",
              " [1609195967508, '0.02709', '0.02711'],\n",
              " [1609195969246, '0.02709', '0.02711'],\n",
              " [1609195970621, '0.0271', '0.02711']]"
            ]
          },
          "metadata": {
            "tags": []
          },
          "execution_count": 43
        }
      ]
    },
    {
      "cell_type": "code",
      "metadata": {
        "id": "NgrIoj3Oc4ty"
      },
      "source": [
        "bin_order = np.load('/content/binance_order_array.npy',allow_pickle=True)"
      ],
      "execution_count": null,
      "outputs": []
    },
    {
      "cell_type": "code",
      "metadata": {
        "id": "sJztHCmyOhvf"
      },
      "source": [
        "binance_order = ssc.sparkContext.parallelize (\n",
        "    bin_order\n",
        ")"
      ],
      "execution_count": null,
      "outputs": []
    },
    {
      "cell_type": "code",
      "metadata": {
        "id": "SVyIHLiWOjhD"
      },
      "source": [
        "merged = (binance_order.map(lambda x: (str(x['time'])[:-3],0)))\\\n",
        ".leftOuterJoin(\n",
        "    final.map(lambda x: ((str(x[0])[:-3]), (x[1], x[2])))\n",
        "    )"
      ],
      "execution_count": 83,
      "outputs": []
    },
    {
      "cell_type": "code",
      "metadata": {
        "colab": {
          "base_uri": "https://localhost:8080/"
        },
        "id": "conT3H4oOuQB",
        "outputId": "a282c1e9-0466-44bf-a392-532150acddff"
      },
      "source": [
        "merged.take(100)"
      ],
      "execution_count": 84,
      "outputs": [
        {
          "output_type": "execute_result",
          "data": {
            "text/plain": [
              "[('1609195964', (0, ('0.02709', '0.0271'))),\n",
              " ('1609195968', (0, None)),\n",
              " ('1609195970', (0, ('0.0271', '0.02711'))),\n",
              " ('1609195987', (0, ('0.02709', '0.0271'))),\n",
              " ('1609195990', (0, ('0.02706', '0.02708'))),\n",
              " ('1609195992', (0, None)),\n",
              " ('1609195993', (0, ('0.02706', '0.02709'))),\n",
              " ('1609195995', (0, ('0.02706', '0.02708'))),\n",
              " ('1609195996', (0, None)),\n",
              " ('1609196000', (0, None)),\n",
              " ('1609196001', (0, ('0.02706', '0.02707'))),\n",
              " ('1609196017', (0, ('0.02705', '0.02707'))),\n",
              " ('1609196020', (0, ('0.02706', '0.02708'))),\n",
              " ('1609196021', (0, ('0.02705', '0.02706'))),\n",
              " ('1609196023', (0, ('0.02705', '0.02706'))),\n",
              " ('1609196032', (0, ('0.02706', '0.02707'))),\n",
              " ('1609196037', (0, None)),\n",
              " ('1609196046', (0, ('0.02704', '0.02706'))),\n",
              " ('1609196061', (0, ('0.02702', '0.02705'))),\n",
              " ('1609196069', (0, ('0.02705', '0.02708'))),\n",
              " ('1609196071', (0, ('0.02705', '0.02708'))),\n",
              " ('1609196077', (0, None)),\n",
              " ('1609196082', (0, ('0.02706', '0.02708'))),\n",
              " ('1609196085', (0, ('0.02706', '0.02708'))),\n",
              " ('1609196087', (0, ('0.02705', '0.02707'))),\n",
              " ('1609196088', (0, None)),\n",
              " ('1609196093', (0, ('0.02705', '0.02708'))),\n",
              " ('1609196094', (0, ('0.02706', '0.02708'))),\n",
              " ('1609196096', (0, ('0.02706', '0.02708'))),\n",
              " ('1609196099', (0, None)),\n",
              " ('1609196101', (0, ('0.02708', '0.02709'))),\n",
              " ('1609196102', (0, None)),\n",
              " ('1609196104', (0, ('0.02706', '0.02708'))),\n",
              " ('1609196107', (0, ('0.02707', '0.02708'))),\n",
              " ('1609196110', (0, ('0.02707', '0.02709'))),\n",
              " ('1609196117', (0, None)),\n",
              " ('1609196118', (0, ('0.02708', '0.02711'))),\n",
              " ('1609196123', (0, ('0.02708', '0.02709'))),\n",
              " ('1609196125', (0, ('0.02708', '0.02709'))),\n",
              " ('1609196130', (0, None)),\n",
              " ('1609196131', (0, ('0.02706', '0.02708'))),\n",
              " ('1609196135', (0, ('0.02705', '0.02707'))),\n",
              " ('1609196144', (0, ('0.02704', '0.02706'))),\n",
              " ('1609196147', (0, ('0.02704', '0.02706'))),\n",
              " ('1609196154', (0, ('0.02702', '0.02704'))),\n",
              " ('1609196155', (0, ('0.02702', '0.02704'))),\n",
              " ('1609196163', (0, None)),\n",
              " ('1609196169', (0, None)),\n",
              " ('1609196172', (0, ('0.02703', '0.02704'))),\n",
              " ('1609196176', (0, ('0.02703', '0.02704'))),\n",
              " ('1609196187', (0, ('0.02704', '0.02705'))),\n",
              " ('1609196210', (0, ('0.02698', '0.027'))),\n",
              " ('1609196228', (0, ('0.02699', '0.02701'))),\n",
              " ('1609196230', (0, ('0.02699', '0.027'))),\n",
              " ('1609196231', (0, ('0.02699', '0.027'))),\n",
              " ('1609196234', (0, ('0.02699', '0.027'))),\n",
              " ('1609196249', (0, ('0.02699', '0.02701'))),\n",
              " ('1609196251', (0, None)),\n",
              " ('1609196254', (0, None)),\n",
              " ('1609196256', (0, ('0.02699', '0.027'))),\n",
              " ('1609196263', (0, ('0.027', '0.02702'))),\n",
              " ('1609196268', (0, ('0.027', '0.02702'))),\n",
              " ('1609196276', (0, ('0.027', '0.02702'))),\n",
              " ('1609196278', (0, None)),\n",
              " ('1609196282', (0, ('0.027', '0.02702'))),\n",
              " ('1609196288', (0, None)),\n",
              " ('1609196296', (0, ('0.02701', '0.02703'))),\n",
              " ('1609196297', (0, None)),\n",
              " ('1609196299', (0, ('0.02701', '0.02704'))),\n",
              " ('1609196304', (0, None)),\n",
              " ('1609196311', (0, ('0.027', '0.02702'))),\n",
              " ('1609196317', (0, None)),\n",
              " ('1609196322', (0, ('0.02702', '0.02704'))),\n",
              " ('1609196334', (0, None)),\n",
              " ('1609196345', (0, ('0.02702', '0.02703'))),\n",
              " ('1609196348', (0, ('0.02702', '0.02705'))),\n",
              " ('1609196351', (0, None)),\n",
              " ('1609196355', (0, ('0.02702', '0.02704'))),\n",
              " ('1609196360', (0, ('0.02703', '0.02704'))),\n",
              " ('1609196365', (0, None)),\n",
              " ('1609196366', (0, ('0.02701', '0.02703'))),\n",
              " ('1609196372', (0, ('0.02701', '0.02703'))),\n",
              " ('1609196379', (0, ('0.02702', '0.02704'))),\n",
              " ('1609196381', (0, None)),\n",
              " ('1609196382', (0, ('0.02702', '0.02704'))),\n",
              " ('1609196384', (0, None)),\n",
              " ('1609196387', (0, ('0.027', '0.02702'))),\n",
              " ('1609196402', (0, None)),\n",
              " ('1609196408', (0, ('0.02699', '0.02701'))),\n",
              " ('1609196411', (0, ('0.02699', '0.027'))),\n",
              " ('1609196413', (0, ('0.02699', '0.027'))),\n",
              " ('1609196414', (0, None)),\n",
              " ('1609196418', (0, None)),\n",
              " ('1609196421', (0, None)),\n",
              " ('1609196425', (0, ('0.02698', '0.027'))),\n",
              " ('1609196432', (0, ('0.027', '0.02702'))),\n",
              " ('1609196442', (0, None)),\n",
              " ('1609196453', (0, ('0.027', '0.02703'))),\n",
              " ('1609196455', (0, ('0.02701', '0.02703'))),\n",
              " ('1609196456', (0, ('0.02701', '0.02702')))]"
            ]
          },
          "metadata": {
            "tags": []
          },
          "execution_count": 84
        }
      ]
    },
    {
      "cell_type": "code",
      "metadata": {
        "id": "kJ_BJSZFXlvI"
      },
      "source": [
        "merged = merged.map(lambda x: [x[0],x[1][1]])"
      ],
      "execution_count": 85,
      "outputs": []
    },
    {
      "cell_type": "code",
      "metadata": {
        "colab": {
          "base_uri": "https://localhost:8080/"
        },
        "id": "mXBCymetY6Ts",
        "outputId": "c2a58725-388c-4c4a-9d2c-529e9ac66183"
      },
      "source": [
        "merged.take(5)"
      ],
      "execution_count": 86,
      "outputs": [
        {
          "output_type": "execute_result",
          "data": {
            "text/plain": [
              "[['1609195964', ('0.02709', '0.0271')],\n",
              " ['1609195968', None],\n",
              " ['1609195970', ('0.0271', '0.02711')],\n",
              " ['1609195987', ('0.02709', '0.0271')],\n",
              " ['1609195990', ('0.02706', '0.02708')]]"
            ]
          },
          "metadata": {
            "tags": []
          },
          "execution_count": 86
        }
      ]
    },
    {
      "cell_type": "code",
      "metadata": {
        "id": "AvlWiowHXdWw"
      },
      "source": [
        "def arrangeNone(iterator):\n",
        "\n",
        "    sv = 0\n",
        "\n",
        "    out = []\n",
        "\n",
        "    for x in iterator:\n",
        "        if x[1] is None:\n",
        "            x[1] = sv\n",
        "        else:\n",
        "            sv = x[1]\n",
        "\n",
        "        out.append([x[0],x[1]])\n",
        "        \n",
        "    return out "
      ],
      "execution_count": 89,
      "outputs": []
    },
    {
      "cell_type": "code",
      "metadata": {
        "id": "XYUnwJVBZh_d"
      },
      "source": [
        "cb_order = merged.mapPartitions(arrangeNone)"
      ],
      "execution_count": 90,
      "outputs": []
    },
    {
      "cell_type": "code",
      "metadata": {
        "colab": {
          "base_uri": "https://localhost:8080/"
        },
        "id": "yRB3hndPZ1Dz",
        "outputId": "8d63af8c-b705-4db4-b436-4dfacc9976b2"
      },
      "source": [
        "cb_order.take(5)"
      ],
      "execution_count": 94,
      "outputs": [
        {
          "output_type": "execute_result",
          "data": {
            "text/plain": [
              "[['1609195964', ('0.02709', '0.0271')],\n",
              " ['1609195968', ('0.02709', '0.0271')],\n",
              " ['1609195970', ('0.0271', '0.02711')],\n",
              " ['1609195987', ('0.02709', '0.0271')],\n",
              " ['1609195990', ('0.02706', '0.02708')]]"
            ]
          },
          "metadata": {
            "tags": []
          },
          "execution_count": 94
        }
      ]
    },
    {
      "cell_type": "code",
      "metadata": {
        "colab": {
          "base_uri": "https://localhost:8080/"
        },
        "id": "bcxjU7moZ-WR",
        "outputId": "a96522c7-2bb4-421f-8ef2-7184893bdd7a"
      },
      "source": [
        "!pip install influxdb"
      ],
      "execution_count": 95,
      "outputs": [
        {
          "output_type": "stream",
          "text": [
            "Collecting influxdb\n",
            "\u001b[?25l  Downloading https://files.pythonhosted.org/packages/01/95/3a72ea5e19df828d27af0a50092f2b24114a5f89922efb4d8a0960bf13ef/influxdb-5.3.1-py2.py3-none-any.whl (77kB)\n",
            "\r\u001b[K     |████▏                           | 10kB 14.0MB/s eta 0:00:01\r\u001b[K     |████████▍                       | 20kB 18.7MB/s eta 0:00:01\r\u001b[K     |████████████▋                   | 30kB 10.9MB/s eta 0:00:01\r\u001b[K     |████████████████▉               | 40kB 8.4MB/s eta 0:00:01\r\u001b[K     |█████████████████████           | 51kB 4.3MB/s eta 0:00:01\r\u001b[K     |█████████████████████████▎      | 61kB 4.5MB/s eta 0:00:01\r\u001b[K     |█████████████████████████████▍  | 71kB 5.0MB/s eta 0:00:01\r\u001b[K     |████████████████████████████████| 81kB 3.6MB/s \n",
            "\u001b[?25hRequirement already satisfied: pytz in /usr/local/lib/python3.6/dist-packages (from influxdb) (2018.9)\n",
            "Requirement already satisfied: msgpack in /usr/local/lib/python3.6/dist-packages (from influxdb) (1.0.1)\n",
            "Requirement already satisfied: python-dateutil>=2.6.0 in /usr/local/lib/python3.6/dist-packages (from influxdb) (2.8.1)\n",
            "Requirement already satisfied: requests>=2.17.0 in /usr/local/lib/python3.6/dist-packages (from influxdb) (2.23.0)\n",
            "Requirement already satisfied: six>=1.10.0 in /usr/local/lib/python3.6/dist-packages (from influxdb) (1.15.0)\n",
            "Requirement already satisfied: urllib3!=1.25.0,!=1.25.1,<1.26,>=1.21.1 in /usr/local/lib/python3.6/dist-packages (from requests>=2.17.0->influxdb) (1.24.3)\n",
            "Requirement already satisfied: certifi>=2017.4.17 in /usr/local/lib/python3.6/dist-packages (from requests>=2.17.0->influxdb) (2020.12.5)\n",
            "Requirement already satisfied: idna<3,>=2.5 in /usr/local/lib/python3.6/dist-packages (from requests>=2.17.0->influxdb) (2.10)\n",
            "Requirement already satisfied: chardet<4,>=3.0.2 in /usr/local/lib/python3.6/dist-packages (from requests>=2.17.0->influxdb) (3.0.4)\n",
            "Installing collected packages: influxdb\n",
            "Successfully installed influxdb-5.3.1\n"
          ],
          "name": "stdout"
        }
      ]
    },
    {
      "cell_type": "code",
      "metadata": {
        "colab": {
          "base_uri": "https://localhost:8080/"
        },
        "id": "r9mKXHgwaFDm",
        "outputId": "ebdec99e-faf1-4e19-8773-6840a361e02a"
      },
      "source": [
        "!sudo apt-get update && sudo apt-get install influxdb"
      ],
      "execution_count": 96,
      "outputs": [
        {
          "output_type": "stream",
          "text": [
            "\r0% [Working]\r            \rIgn:1 https://developer.download.nvidia.com/compute/cuda/repos/ubuntu1804/x86_64  InRelease\n",
            "Get:2 https://cloud.r-project.org/bin/linux/ubuntu bionic-cran40/ InRelease [3,626 B]\n",
            "Get:3 http://ppa.launchpad.net/c2d4u.team/c2d4u4.0+/ubuntu bionic InRelease [15.9 kB]\n",
            "Get:4 http://security.ubuntu.com/ubuntu bionic-security InRelease [88.7 kB]\n",
            "Hit:5 http://archive.ubuntu.com/ubuntu bionic InRelease\n",
            "Ign:6 https://developer.download.nvidia.com/compute/machine-learning/repos/ubuntu1804/x86_64  InRelease\n",
            "Hit:7 https://developer.download.nvidia.com/compute/cuda/repos/ubuntu1804/x86_64  Release\n",
            "Hit:8 https://developer.download.nvidia.com/compute/machine-learning/repos/ubuntu1804/x86_64  Release\n",
            "Get:9 http://archive.ubuntu.com/ubuntu bionic-updates InRelease [88.7 kB]\n",
            "Get:10 https://cloud.r-project.org/bin/linux/ubuntu bionic-cran40/ Packages [41.5 kB]\n",
            "Hit:11 http://ppa.launchpad.net/cran/libgit2/ubuntu bionic InRelease\n",
            "Get:13 http://archive.ubuntu.com/ubuntu bionic-backports InRelease [74.6 kB]\n",
            "Hit:14 http://ppa.launchpad.net/graphics-drivers/ppa/ubuntu bionic InRelease\n",
            "Get:16 http://ppa.launchpad.net/c2d4u.team/c2d4u4.0+/ubuntu bionic/main Sources [1,704 kB]\n",
            "Get:17 http://ppa.launchpad.net/c2d4u.team/c2d4u4.0+/ubuntu bionic/main amd64 Packages [873 kB]\n",
            "Fetched 2,890 kB in 2s (1,300 kB/s)\n",
            "Reading package lists... Done\n",
            "Reading package lists... Done\n",
            "Building dependency tree       \n",
            "Reading state information... Done\n",
            "The following NEW packages will be installed:\n",
            "  influxdb\n",
            "0 upgraded, 1 newly installed, 0 to remove and 19 not upgraded.\n",
            "Need to get 2,813 kB of archives.\n",
            "After this operation, 10.7 MB of additional disk space will be used.\n",
            "Get:1 http://archive.ubuntu.com/ubuntu bionic/universe amd64 influxdb amd64 1.1.1+dfsg1-4 [2,813 kB]\n",
            "Fetched 2,813 kB in 1s (3,205 kB/s)\n",
            "debconf: unable to initialize frontend: Dialog\n",
            "debconf: (No usable dialog-like program is installed, so the dialog based frontend cannot be used. at /usr/share/perl5/Debconf/FrontEnd/Dialog.pm line 76, <> line 1.)\n",
            "debconf: falling back to frontend: Readline\n",
            "debconf: unable to initialize frontend: Readline\n",
            "debconf: (This frontend requires a controlling tty.)\n",
            "debconf: falling back to frontend: Teletype\n",
            "dpkg-preconfigure: unable to re-open stdin: \n",
            "Selecting previously unselected package influxdb.\n",
            "(Reading database ... 145480 files and directories currently installed.)\n",
            "Preparing to unpack .../influxdb_1.1.1+dfsg1-4_amd64.deb ...\n",
            "Unpacking influxdb (1.1.1+dfsg1-4) ...\n",
            "Setting up influxdb (1.1.1+dfsg1-4) ...\n",
            "Adding system user `influxdb' (UID 105) ...\n",
            "Adding new user `influxdb' (UID 105) with group `nogroup' ...\n",
            "Not creating home directory `/var/lib/influxdb'.\n",
            "Adding group `influxdb' (GID 109) ...\n",
            "Done.\n",
            "Adding user `influxdb' to group `influxdb' ...\n",
            "Adding user influxdb to group influxdb\n",
            "Done.\n",
            "Created symlink /etc/systemd/system/influxd.service → /lib/systemd/system/influxdb.service.\n",
            "Created symlink /etc/systemd/system/multi-user.target.wants/influxdb.service → /lib/systemd/system/influxdb.service.\n",
            "invoke-rc.d: could not determine current runlevel\n",
            "invoke-rc.d: policy-rc.d denied execution of start.\n",
            "Processing triggers for man-db (2.8.3-2ubuntu0.1) ...\n",
            "Processing triggers for systemd (237-3ubuntu10.43) ...\n"
          ],
          "name": "stdout"
        }
      ]
    },
    {
      "cell_type": "code",
      "metadata": {
        "colab": {
          "base_uri": "https://localhost:8080/"
        },
        "id": "07fgbGUfaJhD",
        "outputId": "f95f3623-fb3c-4a40-9eaf-db244709d260"
      },
      "source": [
        "!sudo service influxdb start"
      ],
      "execution_count": 98,
      "outputs": [
        {
          "output_type": "stream",
          "text": [
            " * Starting database influxd\n",
            "   ...done.\n"
          ],
          "name": "stdout"
        }
      ]
    },
    {
      "cell_type": "code",
      "metadata": {
        "id": "Hr8b_NRdazcu"
      },
      "source": [
        "from influxdb import InfluxDBClient\n",
        "client = InfluxDBClient(host='localhost', port=8086)"
      ],
      "execution_count": 99,
      "outputs": []
    },
    {
      "cell_type": "code",
      "metadata": {
        "id": "xu3nPIp6a1uQ"
      },
      "source": [
        "client.create_database('coinbase_order')"
      ],
      "execution_count": 100,
      "outputs": []
    },
    {
      "cell_type": "code",
      "metadata": {
        "id": "LRl9w-_oa9Iu"
      },
      "source": [
        "def influx(partitions):\n",
        "    result = []\n",
        "    for i in range(np.array(partitions).shape[0] - 1):\n",
        "        result.append('coinbase_trade date='+partitions[i][0]+','+'bids='+partitions[i][1][0]+','+'asks='+ partitions[i][1][1])\n",
        "    return result"
      ],
      "execution_count": 105,
      "outputs": []
    },
    {
      "cell_type": "code",
      "metadata": {
        "id": "9CtbeOejbS_6"
      },
      "source": [
        "cb_order=cb_order.mapPartitions(influx)  "
      ],
      "execution_count": 106,
      "outputs": []
    },
    {
      "cell_type": "code",
      "metadata": {
        "colab": {
          "base_uri": "https://localhost:8080/"
        },
        "id": "c7x_ntV7bXfA",
        "outputId": "51339efc-571b-4cab-ffdf-6669128fdd2c"
      },
      "source": [
        "cb_order.take(5)"
      ],
      "execution_count": 107,
      "outputs": [
        {
          "output_type": "execute_result",
          "data": {
            "text/plain": [
              "['coinbase_trade date=1609195964,bids=0.02709,asks=0.0271',\n",
              " 'coinbase_trade date=1609195968,bids=0.02709,asks=0.0271',\n",
              " 'coinbase_trade date=1609195970,bids=0.0271,asks=0.02711',\n",
              " 'coinbase_trade date=1609195987,bids=0.02709,asks=0.0271',\n",
              " 'coinbase_trade date=1609195990,bids=0.02706,asks=0.02708']"
            ]
          },
          "metadata": {
            "tags": []
          },
          "execution_count": 107
        }
      ]
    }
  ]
}