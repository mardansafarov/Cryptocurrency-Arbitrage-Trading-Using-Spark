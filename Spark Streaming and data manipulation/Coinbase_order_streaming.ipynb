{
  "nbformat": 4,
  "nbformat_minor": 0,
  "metadata": {
    "colab": {
      "name": "Coinbase_order_streaming.ipynb",
      "provenance": [],
      "collapsed_sections": []
    },
    "kernelspec": {
      "name": "python3",
      "display_name": "Python 3"
    }
  },
  "cells": [
    {
      "cell_type": "code",
      "metadata": {
        "id": "VUWKk31cn7tY"
      },
      "source": [
        "# innstall java\n",
        "!apt-get install openjdk-8-jdk-headless -qq > /dev/null\n",
        " \n",
        "# install spark (change the version number if needed)\n",
        "!wget -q https://archive.apache.org/dist/spark/spark-3.0.0/spark-3.0.0-bin-hadoop3.2.tgz\n",
        " \n",
        "# unzip the spark file to the current folder\n",
        "!tar xf spark-3.0.0-bin-hadoop3.2.tgz\n",
        " \n",
        "# set your spark folder to your system path environment. \n",
        "import os\n",
        "os.environ[\"JAVA_HOME\"] = \"/usr/lib/jvm/java-8-openjdk-amd64\"\n",
        "os.environ[\"SPARK_HOME\"] = \"/content/spark-3.0.0-bin-hadoop3.2\"\n",
        " \n",
        "\n",
        "# install findspark using pip\n",
        "!pip install -q findspark"
      ],
      "execution_count": 67,
      "outputs": []
    },
    {
      "cell_type": "code",
      "metadata": {
        "colab": {
          "base_uri": "https://localhost:8080/"
        },
        "id": "tGemj4qKqs_l",
        "outputId": "fe5afb87-6ca7-409d-eb87-c2da10bc1da1"
      },
      "source": [
        "!pip install pyspark"
      ],
      "execution_count": 69,
      "outputs": [
        {
          "output_type": "stream",
          "text": [
            "Requirement already satisfied: pyspark in /usr/local/lib/python3.6/dist-packages (3.0.1)\n",
            "Requirement already satisfied: py4j==0.10.9 in /usr/local/lib/python3.6/dist-packages (from pyspark) (0.10.9)\n"
          ],
          "name": "stdout"
        }
      ]
    },
    {
      "cell_type": "code",
      "metadata": {
        "id": "KCzj0PaMqs9H"
      },
      "source": [
        "import findspark\r\n",
        "findspark.init()\r\n",
        "from pyspark import SparkContext\r\n",
        "from pyspark import SparkConf\r\n",
        "from pyspark.ml.linalg import Vectors\r\n",
        "import pyspark\r\n",
        "from pyspark.sql.functions import udf\r\n",
        "from pyspark.sql.types import FloatType\r\n",
        "from pyspark.streaming import StreamingContext\r\n",
        "from pyspark.sql import SparkSession\r\n",
        "from pyspark.sql.types import StructType\r\n",
        "from pyspark import SQLContext"
      ],
      "execution_count": 70,
      "outputs": []
    },
    {
      "cell_type": "code",
      "metadata": {
        "id": "_OSwU6t9qb_s"
      },
      "source": [
        "import numpy as np\r\n",
        "import pandas as pd"
      ],
      "execution_count": 71,
      "outputs": []
    },
    {
      "cell_type": "code",
      "metadata": {
        "colab": {
          "base_uri": "https://localhost:8080/"
        },
        "id": "LBMcC8MJqmJ9",
        "outputId": "dc95c759-6181-4ae3-fce1-9950fe4d5c67"
      },
      "source": [
        "coinbase = np.load('/content/coinbase_order_array.npy', allow_pickle=True)\r\n",
        "coinbase"
      ],
      "execution_count": 72,
      "outputs": [
        {
          "output_type": "execute_result",
          "data": {
            "text/plain": [
              "array([{'bids': [['0.02706', '0.3941605', 2]], 'asks': [['0.02707', '17.115', 2]], 'sequence': 2517907125, 'time': 1609195957834},\n",
              "       {'bids': [['0.02706', '0.1191605', 1]], 'asks': [['0.02707', '3.075', 3]], 'sequence': 2517907249, 'time': 1609195959133},\n",
              "       {'bids': [['0.02707', '2.8', 1]], 'asks': [['0.02708', '24.03321021', 4]], 'sequence': 2517907434, 'time': 1609195960437},\n",
              "       ...,\n",
              "       {'bids': [['0.0273', '11.82427217', 3]], 'asks': [['0.02731', '5.87095917', 2]], 'sequence': 2519953418, 'time': 1609239371302},\n",
              "       {'bids': [['0.02729', '24.01996707', 7]], 'asks': [['0.0273', '5.87095917', 2]], 'sequence': 2519953656, 'time': 1609239373100},\n",
              "       {'bids': [['0.02729', '29.53056707', 7]], 'asks': [['0.0273', '5.87095917', 2]], 'sequence': 2519953695, 'time': 1609239374755}],\n",
              "      dtype=object)"
            ]
          },
          "metadata": {
            "tags": []
          },
          "execution_count": 72
        }
      ]
    },
    {
      "cell_type": "code",
      "metadata": {
        "id": "mlr09X1Gqs1j"
      },
      "source": [
        "spark = SparkSession.builder.getOrCreate()"
      ],
      "execution_count": 73,
      "outputs": []
    },
    {
      "cell_type": "code",
      "metadata": {
        "id": "jvqzdD5pr1nl"
      },
      "source": [
        "sc = spark.sparkContext\r\n",
        "ssc = StreamingContext(sc, 10)\r\n",
        "rdd = ssc.sparkContext.parallelize(coinbase)"
      ],
      "execution_count": 74,
      "outputs": []
    },
    {
      "cell_type": "code",
      "metadata": {
        "id": "gKd3V0zpr1hN"
      },
      "source": [
        "rdd = rdd.map(lambda x: (x['time'], x['bids'], x['asks']))"
      ],
      "execution_count": 75,
      "outputs": []
    },
    {
      "cell_type": "code",
      "metadata": {
        "colab": {
          "base_uri": "https://localhost:8080/"
        },
        "id": "TNgXHkiYosya",
        "outputId": "f194c58c-d81f-45c8-8cee-5bc4653221e5"
      },
      "source": [
        "rdd.take(5)"
      ],
      "execution_count": 76,
      "outputs": [
        {
          "output_type": "execute_result",
          "data": {
            "text/plain": [
              "[(1609195957834, [['0.02706', '0.3941605', 2]], [['0.02707', '17.115', 2]]),\n",
              " (1609195959133, [['0.02706', '0.1191605', 1]], [['0.02707', '3.075', 3]]),\n",
              " (1609195960437, [['0.02707', '2.8', 1]], [['0.02708', '24.03321021', 4]]),\n",
              " (1609195962189,\n",
              "  [['0.02708', '4.84406447', 3]],\n",
              "  [['0.02709', '22.27755749', 2]]),\n",
              " (1609195963505,\n",
              "  [['0.02708', '4.84406447', 3]],\n",
              "  [['0.02709', '22.27755749', 2]])]"
            ]
          },
          "metadata": {
            "tags": []
          },
          "execution_count": 76
        }
      ]
    },
    {
      "cell_type": "code",
      "metadata": {
        "id": "dNNIAR4yCxmM"
      },
      "source": [
        "def min_max(iterator):\n",
        "\n",
        "   \n",
        "    asks=[]\n",
        "    for x in iterator:\n",
        "\n",
        "      asks.append([x[0],x[1][0][0], x[2][0][0]])\n",
        "\n",
        "    return asks"
      ],
      "execution_count": 77,
      "outputs": []
    },
    {
      "cell_type": "code",
      "metadata": {
        "id": "NurZYXT90AGU"
      },
      "source": [
        "final = rdd.mapPartitions(min_max)"
      ],
      "execution_count": 78,
      "outputs": []
    },
    {
      "cell_type": "code",
      "metadata": {
        "colab": {
          "base_uri": "https://localhost:8080/"
        },
        "id": "AXUOopt2tdOI",
        "outputId": "557d94e8-1f8d-4fc9-f09b-373268893b97"
      },
      "source": [
        "final.take(10)"
      ],
      "execution_count": 79,
      "outputs": [
        {
          "output_type": "execute_result",
          "data": {
            "text/plain": [
              "[[1609195957834, '0.02706', '0.02707'],\n",
              " [1609195959133, '0.02706', '0.02707'],\n",
              " [1609195960437, '0.02707', '0.02708'],\n",
              " [1609195962189, '0.02708', '0.02709'],\n",
              " [1609195963505, '0.02708', '0.02709'],\n",
              " [1609195964789, '0.02709', '0.0271'],\n",
              " [1609195966189, '0.02709', '0.02711'],\n",
              " [1609195967508, '0.02709', '0.02711'],\n",
              " [1609195969246, '0.02709', '0.02711'],\n",
              " [1609195970621, '0.0271', '0.02711']]"
            ]
          },
          "metadata": {
            "tags": []
          },
          "execution_count": 79
        }
      ]
    },
    {
      "cell_type": "code",
      "metadata": {
        "id": "NgrIoj3Oc4ty"
      },
      "source": [
        "bin_order = np.load('/content/binance_order_array.npy',allow_pickle=True)"
      ],
      "execution_count": 80,
      "outputs": []
    },
    {
      "cell_type": "code",
      "metadata": {
        "id": "sJztHCmyOhvf"
      },
      "source": [
        "binance_order = ssc.sparkContext.parallelize (\n",
        "    bin_order\n",
        ")"
      ],
      "execution_count": 81,
      "outputs": []
    },
    {
      "cell_type": "code",
      "metadata": {
        "id": "SVyIHLiWOjhD"
      },
      "source": [
        "merged = (binance_order.map(lambda x: (str(x['time'])[:-3],0)))\\\n",
        ".leftOuterJoin(\n",
        "    final.map(lambda x: ((str(x[0])[:-3]), (x[1], x[2])))\n",
        "    )"
      ],
      "execution_count": 82,
      "outputs": []
    },
    {
      "cell_type": "code",
      "metadata": {
        "colab": {
          "base_uri": "https://localhost:8080/"
        },
        "id": "conT3H4oOuQB",
        "outputId": "ffed75c2-37cd-449d-b891-523b3f5838be"
      },
      "source": [
        "merged.take(100)"
      ],
      "execution_count": 83,
      "outputs": [
        {
          "output_type": "execute_result",
          "data": {
            "text/plain": [
              "[('1609195964', (0, ('0.02709', '0.0271'))),\n",
              " ('1609195968', (0, None)),\n",
              " ('1609195970', (0, ('0.0271', '0.02711'))),\n",
              " ('1609195987', (0, ('0.02709', '0.0271'))),\n",
              " ('1609195990', (0, ('0.02706', '0.02708'))),\n",
              " ('1609195992', (0, None)),\n",
              " ('1609195993', (0, ('0.02706', '0.02709'))),\n",
              " ('1609195995', (0, ('0.02706', '0.02708'))),\n",
              " ('1609195996', (0, None)),\n",
              " ('1609196000', (0, None)),\n",
              " ('1609196001', (0, ('0.02706', '0.02707'))),\n",
              " ('1609196017', (0, ('0.02705', '0.02707'))),\n",
              " ('1609196020', (0, ('0.02706', '0.02708'))),\n",
              " ('1609196021', (0, ('0.02705', '0.02706'))),\n",
              " ('1609196023', (0, ('0.02705', '0.02706'))),\n",
              " ('1609196032', (0, ('0.02706', '0.02707'))),\n",
              " ('1609196037', (0, None)),\n",
              " ('1609196046', (0, ('0.02704', '0.02706'))),\n",
              " ('1609196061', (0, ('0.02702', '0.02705'))),\n",
              " ('1609196069', (0, ('0.02705', '0.02708'))),\n",
              " ('1609196071', (0, ('0.02705', '0.02708'))),\n",
              " ('1609196077', (0, None)),\n",
              " ('1609196082', (0, ('0.02706', '0.02708'))),\n",
              " ('1609196085', (0, ('0.02706', '0.02708'))),\n",
              " ('1609196087', (0, ('0.02705', '0.02707'))),\n",
              " ('1609196088', (0, None)),\n",
              " ('1609196093', (0, ('0.02705', '0.02708'))),\n",
              " ('1609196094', (0, ('0.02706', '0.02708'))),\n",
              " ('1609196096', (0, ('0.02706', '0.02708'))),\n",
              " ('1609196099', (0, None)),\n",
              " ('1609196101', (0, ('0.02708', '0.02709'))),\n",
              " ('1609196102', (0, None)),\n",
              " ('1609196104', (0, ('0.02706', '0.02708'))),\n",
              " ('1609196107', (0, ('0.02707', '0.02708'))),\n",
              " ('1609196110', (0, ('0.02707', '0.02709'))),\n",
              " ('1609196117', (0, None)),\n",
              " ('1609196118', (0, ('0.02708', '0.02711'))),\n",
              " ('1609196123', (0, ('0.02708', '0.02709'))),\n",
              " ('1609196125', (0, ('0.02708', '0.02709'))),\n",
              " ('1609196130', (0, None)),\n",
              " ('1609196131', (0, ('0.02706', '0.02708'))),\n",
              " ('1609196135', (0, ('0.02705', '0.02707'))),\n",
              " ('1609196144', (0, ('0.02704', '0.02706'))),\n",
              " ('1609196147', (0, ('0.02704', '0.02706'))),\n",
              " ('1609196154', (0, ('0.02702', '0.02704'))),\n",
              " ('1609196155', (0, ('0.02702', '0.02704'))),\n",
              " ('1609196163', (0, None)),\n",
              " ('1609196169', (0, None)),\n",
              " ('1609196172', (0, ('0.02703', '0.02704'))),\n",
              " ('1609196176', (0, ('0.02703', '0.02704'))),\n",
              " ('1609196187', (0, ('0.02704', '0.02705'))),\n",
              " ('1609196210', (0, ('0.02698', '0.027'))),\n",
              " ('1609196228', (0, ('0.02699', '0.02701'))),\n",
              " ('1609196230', (0, ('0.02699', '0.027'))),\n",
              " ('1609196231', (0, ('0.02699', '0.027'))),\n",
              " ('1609196234', (0, ('0.02699', '0.027'))),\n",
              " ('1609196249', (0, ('0.02699', '0.02701'))),\n",
              " ('1609196251', (0, None)),\n",
              " ('1609196254', (0, None)),\n",
              " ('1609196256', (0, ('0.02699', '0.027'))),\n",
              " ('1609196263', (0, ('0.027', '0.02702'))),\n",
              " ('1609196268', (0, ('0.027', '0.02702'))),\n",
              " ('1609196276', (0, ('0.027', '0.02702'))),\n",
              " ('1609196278', (0, None)),\n",
              " ('1609196282', (0, ('0.027', '0.02702'))),\n",
              " ('1609196288', (0, None)),\n",
              " ('1609196296', (0, ('0.02701', '0.02703'))),\n",
              " ('1609196297', (0, None)),\n",
              " ('1609196299', (0, ('0.02701', '0.02704'))),\n",
              " ('1609196304', (0, None)),\n",
              " ('1609196311', (0, ('0.027', '0.02702'))),\n",
              " ('1609196317', (0, None)),\n",
              " ('1609196322', (0, ('0.02702', '0.02704'))),\n",
              " ('1609196334', (0, None)),\n",
              " ('1609196345', (0, ('0.02702', '0.02703'))),\n",
              " ('1609196348', (0, ('0.02702', '0.02705'))),\n",
              " ('1609196351', (0, None)),\n",
              " ('1609196355', (0, ('0.02702', '0.02704'))),\n",
              " ('1609196360', (0, ('0.02703', '0.02704'))),\n",
              " ('1609196365', (0, None)),\n",
              " ('1609196366', (0, ('0.02701', '0.02703'))),\n",
              " ('1609196372', (0, ('0.02701', '0.02703'))),\n",
              " ('1609196379', (0, ('0.02702', '0.02704'))),\n",
              " ('1609196381', (0, None)),\n",
              " ('1609196382', (0, ('0.02702', '0.02704'))),\n",
              " ('1609196384', (0, None)),\n",
              " ('1609196387', (0, ('0.027', '0.02702'))),\n",
              " ('1609196402', (0, None)),\n",
              " ('1609196408', (0, ('0.02699', '0.02701'))),\n",
              " ('1609196411', (0, ('0.02699', '0.027'))),\n",
              " ('1609196413', (0, ('0.02699', '0.027'))),\n",
              " ('1609196414', (0, None)),\n",
              " ('1609196418', (0, None)),\n",
              " ('1609196421', (0, None)),\n",
              " ('1609196425', (0, ('0.02698', '0.027'))),\n",
              " ('1609196432', (0, ('0.027', '0.02702'))),\n",
              " ('1609196442', (0, None)),\n",
              " ('1609196453', (0, ('0.027', '0.02703'))),\n",
              " ('1609196455', (0, ('0.02701', '0.02703'))),\n",
              " ('1609196456', (0, ('0.02701', '0.02702')))]"
            ]
          },
          "metadata": {
            "tags": []
          },
          "execution_count": 83
        }
      ]
    },
    {
      "cell_type": "code",
      "metadata": {
        "id": "kJ_BJSZFXlvI"
      },
      "source": [
        "merged = merged.map(lambda x: [x[0],x[1][1]])"
      ],
      "execution_count": 84,
      "outputs": []
    },
    {
      "cell_type": "code",
      "metadata": {
        "colab": {
          "base_uri": "https://localhost:8080/"
        },
        "id": "mXBCymetY6Ts",
        "outputId": "43e5a0e6-b1b5-4787-ac86-c060790610fa"
      },
      "source": [
        "merged.take(5)"
      ],
      "execution_count": 85,
      "outputs": [
        {
          "output_type": "execute_result",
          "data": {
            "text/plain": [
              "[['1609195964', ('0.02709', '0.0271')],\n",
              " ['1609195968', None],\n",
              " ['1609195970', ('0.0271', '0.02711')],\n",
              " ['1609195987', ('0.02709', '0.0271')],\n",
              " ['1609195990', ('0.02706', '0.02708')]]"
            ]
          },
          "metadata": {
            "tags": []
          },
          "execution_count": 85
        }
      ]
    },
    {
      "cell_type": "code",
      "metadata": {
        "id": "AvlWiowHXdWw"
      },
      "source": [
        "def arrangeNone(iterator):\n",
        "\n",
        "    sv = 0\n",
        "\n",
        "    out = []\n",
        "\n",
        "    for x in iterator:\n",
        "        if x[1] is None:\n",
        "            x[1] = sv\n",
        "        else:\n",
        "            sv = x[1]\n",
        "\n",
        "        out.append([x[0],x[1]])\n",
        "        \n",
        "    return out "
      ],
      "execution_count": 86,
      "outputs": []
    },
    {
      "cell_type": "code",
      "metadata": {
        "id": "XYUnwJVBZh_d"
      },
      "source": [
        "cb_order = merged.mapPartitions(arrangeNone)"
      ],
      "execution_count": 87,
      "outputs": []
    },
    {
      "cell_type": "code",
      "metadata": {
        "colab": {
          "base_uri": "https://localhost:8080/"
        },
        "id": "yRB3hndPZ1Dz",
        "outputId": "60b50388-b2bb-476f-e6b1-4cf8dee46ae6"
      },
      "source": [
        "cb_order.take(5)"
      ],
      "execution_count": 88,
      "outputs": [
        {
          "output_type": "execute_result",
          "data": {
            "text/plain": [
              "[['1609195964', ('0.02709', '0.0271')],\n",
              " ['1609195968', ('0.02709', '0.0271')],\n",
              " ['1609195970', ('0.0271', '0.02711')],\n",
              " ['1609195987', ('0.02709', '0.0271')],\n",
              " ['1609195990', ('0.02706', '0.02708')]]"
            ]
          },
          "metadata": {
            "tags": []
          },
          "execution_count": 88
        }
      ]
    },
    {
      "cell_type": "code",
      "metadata": {
        "colab": {
          "base_uri": "https://localhost:8080/"
        },
        "id": "bcxjU7moZ-WR",
        "outputId": "c7c1c52d-4be9-422f-9dda-c924fe4d590f"
      },
      "source": [
        "!pip install influxdb"
      ],
      "execution_count": 89,
      "outputs": [
        {
          "output_type": "stream",
          "text": [
            "Requirement already satisfied: influxdb in /usr/local/lib/python3.6/dist-packages (5.3.1)\n",
            "Requirement already satisfied: msgpack in /usr/local/lib/python3.6/dist-packages (from influxdb) (1.0.1)\n",
            "Requirement already satisfied: six>=1.10.0 in /usr/local/lib/python3.6/dist-packages (from influxdb) (1.15.0)\n",
            "Requirement already satisfied: pytz in /usr/local/lib/python3.6/dist-packages (from influxdb) (2018.9)\n",
            "Requirement already satisfied: python-dateutil>=2.6.0 in /usr/local/lib/python3.6/dist-packages (from influxdb) (2.8.1)\n",
            "Requirement already satisfied: requests>=2.17.0 in /usr/local/lib/python3.6/dist-packages (from influxdb) (2.23.0)\n",
            "Requirement already satisfied: certifi>=2017.4.17 in /usr/local/lib/python3.6/dist-packages (from requests>=2.17.0->influxdb) (2020.12.5)\n",
            "Requirement already satisfied: urllib3!=1.25.0,!=1.25.1,<1.26,>=1.21.1 in /usr/local/lib/python3.6/dist-packages (from requests>=2.17.0->influxdb) (1.24.3)\n",
            "Requirement already satisfied: idna<3,>=2.5 in /usr/local/lib/python3.6/dist-packages (from requests>=2.17.0->influxdb) (2.10)\n",
            "Requirement already satisfied: chardet<4,>=3.0.2 in /usr/local/lib/python3.6/dist-packages (from requests>=2.17.0->influxdb) (3.0.4)\n"
          ],
          "name": "stdout"
        }
      ]
    },
    {
      "cell_type": "code",
      "metadata": {
        "colab": {
          "base_uri": "https://localhost:8080/"
        },
        "id": "r9mKXHgwaFDm",
        "outputId": "bb682b16-822b-43f2-f18b-c1245a75051f"
      },
      "source": [
        "!sudo apt-get update && sudo apt-get install influxdb"
      ],
      "execution_count": 90,
      "outputs": [
        {
          "output_type": "stream",
          "text": [
            "Ign:1 https://developer.download.nvidia.com/compute/cuda/repos/ubuntu1804/x86_64  InRelease\n",
            "Hit:2 https://cloud.r-project.org/bin/linux/ubuntu bionic-cran40/ InRelease\n",
            "Get:3 http://security.ubuntu.com/ubuntu bionic-security InRelease [88.7 kB]\n",
            "Ign:4 https://developer.download.nvidia.com/compute/machine-learning/repos/ubuntu1804/x86_64  InRelease\n",
            "Hit:5 https://developer.download.nvidia.com/compute/cuda/repos/ubuntu1804/x86_64  Release\n",
            "Hit:6 http://ppa.launchpad.net/c2d4u.team/c2d4u4.0+/ubuntu bionic InRelease\n",
            "Hit:7 http://archive.ubuntu.com/ubuntu bionic InRelease\n",
            "Hit:8 https://developer.download.nvidia.com/compute/machine-learning/repos/ubuntu1804/x86_64  Release\n",
            "Get:9 http://archive.ubuntu.com/ubuntu bionic-updates InRelease [88.7 kB]\n",
            "Hit:11 http://ppa.launchpad.net/cran/libgit2/ubuntu bionic InRelease\n",
            "Hit:12 http://ppa.launchpad.net/graphics-drivers/ppa/ubuntu bionic InRelease\n",
            "Get:13 http://archive.ubuntu.com/ubuntu bionic-backports InRelease [74.6 kB]\n",
            "Fetched 252 kB in 1s (226 kB/s)\n",
            "Reading package lists... Done\n",
            "Reading package lists... Done\n",
            "Building dependency tree       \n",
            "Reading state information... Done\n",
            "influxdb is already the newest version (1.1.1+dfsg1-4).\n",
            "0 upgraded, 0 newly installed, 0 to remove and 19 not upgraded.\n"
          ],
          "name": "stdout"
        }
      ]
    },
    {
      "cell_type": "code",
      "metadata": {
        "colab": {
          "base_uri": "https://localhost:8080/"
        },
        "id": "07fgbGUfaJhD",
        "outputId": "c2a29e74-a5c8-4cd5-e9f4-cddfc8326479"
      },
      "source": [
        "!sudo service influxdb start"
      ],
      "execution_count": 91,
      "outputs": [
        {
          "output_type": "stream",
          "text": [
            " * Starting database influxd\n",
            "   ...done.\n"
          ],
          "name": "stdout"
        }
      ]
    },
    {
      "cell_type": "code",
      "metadata": {
        "id": "Hr8b_NRdazcu"
      },
      "source": [
        "from influxdb import InfluxDBClient\n",
        "client = InfluxDBClient(host='localhost', port=8086)"
      ],
      "execution_count": 92,
      "outputs": []
    },
    {
      "cell_type": "code",
      "metadata": {
        "id": "xu3nPIp6a1uQ"
      },
      "source": [
        "client.create_database('coinbase_or')"
      ],
      "execution_count": 106,
      "outputs": []
    },
    {
      "cell_type": "code",
      "metadata": {
        "id": "LRl9w-_oa9Iu"
      },
      "source": [
        "def inf(partitions):\n",
        "    result = []\n",
        "    print(np.array(partitions).shape[0] - 1)\n",
        "    for i in range(np.array(partitions).shape[0] - 1):\n",
        "      print(i)\n",
        "      if partitions[i][1]!=0:\n",
        "        result.append('coinbase_order date='+str(partitions[i][0])+',bids='+str(partitions[i][1][0])+',asks='+ str(partitions[i][1][1]))\n",
        "    return result"
      ],
      "execution_count": 94,
      "outputs": []
    },
    {
      "cell_type": "code",
      "metadata": {
        "id": "9CtbeOejbS_6"
      },
      "source": [
        "cb_order_last=cb_order.mapPartitions(inf)  "
      ],
      "execution_count": 95,
      "outputs": []
    },
    {
      "cell_type": "code",
      "metadata": {
        "colab": {
          "base_uri": "https://localhost:8080/"
        },
        "id": "h4r4sYAjszmW",
        "outputId": "9cf172f1-66e1-4ca9-cf69-5d1da8c9926d"
      },
      "source": [
        "cb_order_last.count()"
      ],
      "execution_count": 101,
      "outputs": [
        {
          "output_type": "execute_result",
          "data": {
            "text/plain": [
              "10042"
            ]
          },
          "metadata": {
            "tags": []
          },
          "execution_count": 101
        }
      ]
    },
    {
      "cell_type": "code",
      "metadata": {
        "colab": {
          "base_uri": "https://localhost:8080/"
        },
        "id": "pOGrVE5ujX52",
        "outputId": "aa539d86-a35a-46f9-a44b-7b6d1959cbb3"
      },
      "source": [
        "client.write_points(cb_order_last.collect(), database='coinbase_or', time_precision='ms', batch_size=1, protocol='line')"
      ],
      "execution_count": 107,
      "outputs": [
        {
          "output_type": "execute_result",
          "data": {
            "text/plain": [
              "True"
            ]
          },
          "metadata": {
            "tags": []
          },
          "execution_count": 107
        }
      ]
    },
    {
      "cell_type": "code",
      "metadata": {
        "id": "jWTmnh-SjiER"
      },
      "source": [
        "client.switch_database('coinbase_or')"
      ],
      "execution_count": 108,
      "outputs": []
    },
    {
      "cell_type": "code",
      "metadata": {
        "id": "IIUMUPkOkY4N"
      },
      "source": [
        "q='select * from coinbase_or.autogen.coinbase_order'\n",
        "cb_order = pd.DataFrame(client.query(q).get_points())"
      ],
      "execution_count": 112,
      "outputs": []
    },
    {
      "cell_type": "code",
      "metadata": {
        "colab": {
          "base_uri": "https://localhost:8080/",
          "height": 419
        },
        "id": "Hi94CcJDkah6",
        "outputId": "b15276e7-0a6b-407c-f890-dfe850662416"
      },
      "source": [
        "cb_order"
      ],
      "execution_count": 113,
      "outputs": [
        {
          "output_type": "execute_result",
          "data": {
            "text/html": [
              "<div>\n",
              "<style scoped>\n",
              "    .dataframe tbody tr th:only-of-type {\n",
              "        vertical-align: middle;\n",
              "    }\n",
              "\n",
              "    .dataframe tbody tr th {\n",
              "        vertical-align: top;\n",
              "    }\n",
              "\n",
              "    .dataframe thead th {\n",
              "        text-align: right;\n",
              "    }\n",
              "</style>\n",
              "<table border=\"1\" class=\"dataframe\">\n",
              "  <thead>\n",
              "    <tr style=\"text-align: right;\">\n",
              "      <th></th>\n",
              "      <th>time</th>\n",
              "      <th>asks</th>\n",
              "      <th>bids</th>\n",
              "      <th>date</th>\n",
              "    </tr>\n",
              "  </thead>\n",
              "  <tbody>\n",
              "    <tr>\n",
              "      <th>0</th>\n",
              "      <td>2021-01-03T19:55:02.53Z</td>\n",
              "      <td>0.02710</td>\n",
              "      <td>0.02709</td>\n",
              "      <td>1.609196e+09</td>\n",
              "    </tr>\n",
              "    <tr>\n",
              "      <th>1</th>\n",
              "      <td>2021-01-03T19:55:02.554Z</td>\n",
              "      <td>0.02710</td>\n",
              "      <td>0.02709</td>\n",
              "      <td>1.609196e+09</td>\n",
              "    </tr>\n",
              "    <tr>\n",
              "      <th>2</th>\n",
              "      <td>2021-01-03T19:55:02.565Z</td>\n",
              "      <td>0.02711</td>\n",
              "      <td>0.02710</td>\n",
              "      <td>1.609196e+09</td>\n",
              "    </tr>\n",
              "    <tr>\n",
              "      <th>3</th>\n",
              "      <td>2021-01-03T19:55:02.573Z</td>\n",
              "      <td>0.02710</td>\n",
              "      <td>0.02709</td>\n",
              "      <td>1.609196e+09</td>\n",
              "    </tr>\n",
              "    <tr>\n",
              "      <th>4</th>\n",
              "      <td>2021-01-03T19:55:02.587Z</td>\n",
              "      <td>0.02708</td>\n",
              "      <td>0.02706</td>\n",
              "      <td>1.609196e+09</td>\n",
              "    </tr>\n",
              "    <tr>\n",
              "      <th>...</th>\n",
              "      <td>...</td>\n",
              "      <td>...</td>\n",
              "      <td>...</td>\n",
              "      <td>...</td>\n",
              "    </tr>\n",
              "    <tr>\n",
              "      <th>10037</th>\n",
              "      <td>2021-01-03T19:56:11.914Z</td>\n",
              "      <td>0.02732</td>\n",
              "      <td>0.02731</td>\n",
              "      <td>1.609239e+09</td>\n",
              "    </tr>\n",
              "    <tr>\n",
              "      <th>10038</th>\n",
              "      <td>2021-01-03T19:56:11.921Z</td>\n",
              "      <td>0.02732</td>\n",
              "      <td>0.02731</td>\n",
              "      <td>1.609239e+09</td>\n",
              "    </tr>\n",
              "    <tr>\n",
              "      <th>10039</th>\n",
              "      <td>2021-01-03T19:56:11.929Z</td>\n",
              "      <td>0.02732</td>\n",
              "      <td>0.02731</td>\n",
              "      <td>1.609239e+09</td>\n",
              "    </tr>\n",
              "    <tr>\n",
              "      <th>10040</th>\n",
              "      <td>2021-01-03T19:56:11.936Z</td>\n",
              "      <td>0.02731</td>\n",
              "      <td>0.02730</td>\n",
              "      <td>1.609239e+09</td>\n",
              "    </tr>\n",
              "    <tr>\n",
              "      <th>10041</th>\n",
              "      <td>2021-01-03T19:56:11.943Z</td>\n",
              "      <td>0.02731</td>\n",
              "      <td>0.02730</td>\n",
              "      <td>1.609239e+09</td>\n",
              "    </tr>\n",
              "  </tbody>\n",
              "</table>\n",
              "<p>10042 rows × 4 columns</p>\n",
              "</div>"
            ],
            "text/plain": [
              "                           time     asks     bids          date\n",
              "0       2021-01-03T19:55:02.53Z  0.02710  0.02709  1.609196e+09\n",
              "1      2021-01-03T19:55:02.554Z  0.02710  0.02709  1.609196e+09\n",
              "2      2021-01-03T19:55:02.565Z  0.02711  0.02710  1.609196e+09\n",
              "3      2021-01-03T19:55:02.573Z  0.02710  0.02709  1.609196e+09\n",
              "4      2021-01-03T19:55:02.587Z  0.02708  0.02706  1.609196e+09\n",
              "...                         ...      ...      ...           ...\n",
              "10037  2021-01-03T19:56:11.914Z  0.02732  0.02731  1.609239e+09\n",
              "10038  2021-01-03T19:56:11.921Z  0.02732  0.02731  1.609239e+09\n",
              "10039  2021-01-03T19:56:11.929Z  0.02732  0.02731  1.609239e+09\n",
              "10040  2021-01-03T19:56:11.936Z  0.02731  0.02730  1.609239e+09\n",
              "10041  2021-01-03T19:56:11.943Z  0.02731  0.02730  1.609239e+09\n",
              "\n",
              "[10042 rows x 4 columns]"
            ]
          },
          "metadata": {
            "tags": []
          },
          "execution_count": 113
        }
      ]
    }
  ]
}