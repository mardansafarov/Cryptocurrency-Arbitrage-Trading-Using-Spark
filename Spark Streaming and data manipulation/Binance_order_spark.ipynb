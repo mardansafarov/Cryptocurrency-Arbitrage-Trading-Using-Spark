{
  "nbformat": 4,
  "nbformat_minor": 0,
  "metadata": {
    "colab": {
      "name": "Binance_order_spark.ipynb",
      "provenance": []
    },
    "kernelspec": {
      "name": "python3",
      "display_name": "Python 3"
    }
  },
  "cells": [
    {
      "cell_type": "code",
      "metadata": {
        "id": "lyJhHsHyRvqd"
      },
      "source": [
        "import numpy as np\n",
        "import pandas as pd"
      ],
      "execution_count": null,
      "outputs": []
    },
    {
      "cell_type": "code",
      "metadata": {
        "id": "-bM521BFR2f-"
      },
      "source": [
        "from pyspark import SparkContext\n",
        "from pyspark import SparkConf\n",
        "from pyspark.ml.linalg import Vectors\n",
        "import pyspark\n",
        "from pyspark.sql.functions import udf\n",
        "from pyspark.sql.types import FloatType"
      ],
      "execution_count": null,
      "outputs": []
    },
    {
      "cell_type": "code",
      "metadata": {
        "id": "DbsMf_jqR5Nh"
      },
      "source": [
        "from pyspark.sql import SparkSession\n",
        "from pyspark import SparkContext\n",
        "from pyspark.streaming import StreamingContext"
      ],
      "execution_count": null,
      "outputs": []
    },
    {
      "cell_type": "code",
      "metadata": {
        "id": "vVsev2qdR7c1"
      },
      "source": [
        "spark = SparkSession.builder.getOrCreate()"
      ],
      "execution_count": null,
      "outputs": []
    },
    {
      "cell_type": "code",
      "metadata": {
        "id": "mCG9QZqhR86f"
      },
      "source": [
        "binance = np.load('/content/binance_order_array.npy', allow_pickle=True)\n",
        "binance"
      ],
      "execution_count": null,
      "outputs": []
    },
    {
      "cell_type": "code",
      "metadata": {
        "id": "9ZpsjLRZSAE-"
      },
      "source": [
        "sc = spark.sparkContext\n",
        "ssc = StreamingContext(sc, 10)\n",
        "rdd = ssc.sparkContext.parallelize(binance)"
      ],
      "execution_count": null,
      "outputs": []
    },
    {
      "cell_type": "code",
      "metadata": {
        "id": "UsQg3DnoSBQJ"
      },
      "source": [
        "rdd = rdd.map(lambda x: (x['time'], x['bids'], x['asks']))"
      ],
      "execution_count": null,
      "outputs": []
    },
    {
      "cell_type": "code",
      "metadata": {
        "id": "6FXlyk9VSFAr"
      },
      "source": [
        "rdd.take(2)"
      ],
      "execution_count": null,
      "outputs": []
    },
    {
      "cell_type": "code",
      "metadata": {
        "id": "75KBpGgESGo-"
      },
      "source": [
        "def min_max(iterator):\n",
        "\n",
        "    max_b = []\n",
        "    min_a = []\n",
        "\n",
        "    for x in iterator:\n",
        "\n",
        "        bids = []\n",
        "        asks = []\n",
        "\n",
        "\n",
        "        for i in range(100):\n",
        "\n",
        "            bids.append(x[1][i][0])\n",
        "            asks.append(x[2][i][0])\n",
        "          \n",
        "        max_b.append([x[0],max(bids),min(asks)] )\n",
        "\n",
        "    return max_b"
      ],
      "execution_count": null,
      "outputs": []
    },
    {
      "cell_type": "code",
      "metadata": {
        "id": "achBxj8mSHBy"
      },
      "source": [
        "final = rdd.mapPartitions(min_max)"
      ],
      "execution_count": null,
      "outputs": []
    },
    {
      "cell_type": "code",
      "metadata": {
        "id": "pHj8lE5_SIb5"
      },
      "source": [
        "final.take(5)"
      ],
      "execution_count": null,
      "outputs": []
    }
  ]
}