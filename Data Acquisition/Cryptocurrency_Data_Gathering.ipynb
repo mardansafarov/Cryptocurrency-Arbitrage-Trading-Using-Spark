{
  "nbformat": 4,
  "nbformat_minor": 0,
  "metadata": {
    "colab": {
      "name": "Cryptocurrency Data Gathering.ipynb",
      "provenance": [],
      "toc_visible": true
    },
    "kernelspec": {
      "name": "python3",
      "display_name": "Python 3"
    }
  },
  "cells": [
    {
      "cell_type": "markdown",
      "metadata": {
        "id": "TmSQ2lfb4rGX"
      },
      "source": [
        "# **ORDER BOOKS**"
      ]
    },
    {
      "cell_type": "markdown",
      "metadata": {
        "id": "NOLPT0j8437k"
      },
      "source": [
        "**Binance**"
      ]
    },
    {
      "cell_type": "code",
      "metadata": {
        "id": "S8APZm5k4wJ7"
      },
      "source": [
        "import numpy as np\n",
        "\n",
        "binance = []\n",
        "np.array(binance).dump(open('binance_array.npy', 'wb'))"
      ],
      "execution_count": null,
      "outputs": []
    },
    {
      "cell_type": "code",
      "metadata": {
        "id": "wkoQbrIi41Ik"
      },
      "source": [
        "import sched, time\n",
        "import requests\n",
        "from csv import writer\n",
        "from csv import DictWriter\n",
        "import numpy as np\n",
        "import os.path\n",
        "\n",
        "s = sched.scheduler(time.time, time.sleep)\n",
        "\n",
        "data1 = {}\n",
        "\n",
        "all_binance = []\n",
        "\n",
        "def do_something(sc): \n",
        "\n",
        "    symbol = 'ETHBTC'\n",
        "\n",
        "    \n",
        "    binance_response = requests.get('https://api.binance.com/api/v3/depth',\n",
        "          params = {\n",
        "              \"symbol\" : symbol\n",
        "      \n",
        "      })\n",
        "\n",
        "    data1 = binance_response.json()\n",
        "\n",
        "    timedata = int(round(time.time() * 1000))\n",
        "    data1['time'] = timedata\n",
        "    x = np.load('/content/binance_array.npy', allow_pickle=True) \n",
        "    np.save(\"binance_array.npy\",np.append(x,data1)) #save the new\n",
        "\n",
        "    s.enter(1, 1, do_something, (sc,))\n",
        "\n",
        "s.enter(1, 1, do_something, (s,))\n",
        "s.run()"
      ],
      "execution_count": null,
      "outputs": []
    },
    {
      "cell_type": "markdown",
      "metadata": {
        "id": "KbCvoOOW46sM"
      },
      "source": [
        "**Bitfinex**"
      ]
    },
    {
      "cell_type": "code",
      "metadata": {
        "id": "cUcyDdM_47z7"
      },
      "source": [
        "import numpy as np\n",
        "\n",
        "bitfinex = []\n",
        "np.array(bitfinex).dump(open('bitfinex_array.npy', 'wb'))\n"
      ],
      "execution_count": null,
      "outputs": []
    },
    {
      "cell_type": "code",
      "metadata": {
        "id": "VDfDaJ_g49xL"
      },
      "source": [
        "import sched, time\n",
        "import requests\n",
        "from csv import writer\n",
        "from csv import DictWriter\n",
        "import numpy as np\n",
        "import os.path\n",
        "\n",
        "s = sched.scheduler(time.time, time.sleep)\n",
        "\n",
        "\n",
        "data2 = {}\n",
        "\n",
        "all_bitfinex = []\n",
        "def do_something(sc): \n",
        "\n",
        "\n",
        "    bitfinex_response = requests.get('https://api-pub.bitfinex.com/v2/book/tETHBTC/P1',\n",
        "          params = {\n",
        "              \"len\" : 25\n",
        "      })\n",
        "\n",
        "    data2['orders'] = bitfinex_response.json()\n",
        "    timedata = int(round(time.time() * 1000))\n",
        "    data2['time'] = timedata\n",
        "    y = np.load('/content/bitfinex_array.npy', allow_pickle=True)\n",
        "    np.save(\"bitfinex_array.npy\",np.append(y,data2)) #save the new\n",
        "\n",
        "\n",
        "    s.enter(1, 1, do_something, (sc,))\n",
        "\n",
        "s.enter(1, 1, do_something, (s,))\n",
        "s.run()"
      ],
      "execution_count": null,
      "outputs": []
    },
    {
      "cell_type": "markdown",
      "metadata": {
        "id": "ELkF0PSK4_nU"
      },
      "source": [
        "**Coinbase**"
      ]
    },
    {
      "cell_type": "code",
      "metadata": {
        "id": "lDeIQci75Apc"
      },
      "source": [
        "import numpy as np\n",
        "\n",
        "coinbase = []\n",
        "np.array(coinbase).dump(open('coinbase_array.npy', 'wb'))"
      ],
      "execution_count": null,
      "outputs": []
    },
    {
      "cell_type": "code",
      "metadata": {
        "id": "Fo6GD0N_5CJ7"
      },
      "source": [
        "import sched, time\n",
        "import requests\n",
        "from csv import writer\n",
        "from csv import DictWriter\n",
        "import numpy as np\n",
        "import os.path\n",
        "\n",
        "s = sched.scheduler(time.time, time.sleep)\n",
        "\n",
        "data3 = {}\n",
        "\n",
        "all_coinbase = []\n",
        "\n",
        "def do_something(sc): \n",
        "\n",
        "    coinbase_response = requests.get('https://api.pro.coinbase.com/products/ETH-BTC/book',\n",
        "          params = {\n",
        "              \"level\" : 1\n",
        "      })\n",
        "\n",
        "    data3 = coinbase_response.json()\n",
        "    timedata = int(round(time.time() * 1000))\n",
        "    data3['time'] = timedata\n",
        "    z = np.load('/content/coinbase_array.npy', allow_pickle=True)\n",
        "    np.save(\"coinbase_array.npy\",np.append(z,data3)) #save the new\n",
        "\n",
        "\n",
        "    s.enter(1, 1, do_something, (sc,))\n",
        "\n",
        "s.enter(1, 1, do_something, (s,))\n",
        "s.run()\n"
      ],
      "execution_count": null,
      "outputs": []
    },
    {
      "cell_type": "markdown",
      "metadata": {
        "id": "9zJ0enTN4tb3"
      },
      "source": [
        "# **TRADES**"
      ]
    },
    {
      "cell_type": "markdown",
      "metadata": {
        "id": "J35UgxMf5Gr6"
      },
      "source": [
        "**Binance**"
      ]
    },
    {
      "cell_type": "code",
      "metadata": {
        "id": "naoCBjBH5IGj"
      },
      "source": [
        "import sched, time\n",
        "import requests\n",
        "from csv import writer\n",
        "from csv import DictWriter\n",
        "import numpy as np\n",
        "import os.path\n",
        "\n",
        "\n",
        "binance_tr_times = [1609195948717, 1609199548000, 1609203148000, 1609206748000, 1609210348000,\n",
        "                    1609213948000, 1609217548000, 1609221148000, 1609224748000, 1609228348000, \n",
        "                    1609231948000, 1609235548000, 1609239148000, 1609239349321]\n",
        "\n",
        "binance_tr_times = np.array(binance_tr_times)\n",
        "\n",
        "binance_tr = []\n",
        "\n",
        "for i in range(binance_tr_times.shape[0]-1):\n",
        "  \n",
        "  binance_trade = []\n",
        "  start = binance_tr_times[i]\n",
        "  end = binance_tr_times[i+1]\n",
        "  symbol = 'ETHBTC'\n",
        "\n",
        "  binance_tr_res = requests.get('https://api.binance.com/api/v3/aggTrades',\n",
        "          params = {\n",
        "              \"symbol\" : symbol,\n",
        "              \"startTime\" : start,\n",
        "              \"endTime\" : end\n",
        "      \n",
        "      })\n",
        "\n",
        "  binance_trade = binance_tr_res.json()\n",
        "  for j in range(np.array(binance_trade).shape[0]):\n",
        "    binance_tr.append(binance_trade[j])"
      ],
      "execution_count": null,
      "outputs": []
    },
    {
      "cell_type": "code",
      "metadata": {
        "colab": {
          "base_uri": "https://localhost:8080/"
        },
        "id": "uBRiGYAjLaqA",
        "outputId": "aa5c253e-db00-4cd8-df79-7e29fdb6b71a"
      },
      "source": [
        "np.array(binance_tr).shape"
      ],
      "execution_count": null,
      "outputs": [
        {
          "output_type": "execute_result",
          "data": {
            "text/plain": [
              "(104318,)"
            ]
          },
          "metadata": {
            "tags": []
          },
          "execution_count": 2
        }
      ]
    },
    {
      "cell_type": "code",
      "metadata": {
        "id": "Qy0cf2O75Nvt"
      },
      "source": [
        "np.array(binance_tr).dump(open('binance_trade_array.npy', 'wb'))"
      ],
      "execution_count": null,
      "outputs": []
    },
    {
      "cell_type": "markdown",
      "metadata": {
        "id": "Xi-u5vMV5R61"
      },
      "source": [
        "**Bitfinex**"
      ]
    },
    {
      "cell_type": "code",
      "metadata": {
        "id": "wNEq3Lql5PtU"
      },
      "source": [
        "bitfinex_tr_times = [1609195948717, 1609217548000, 1609239349321]\n",
        "bitfinex_tr_times = np.array(bitfinex_tr_times)\n",
        "\n",
        "bitfinex_tr = []\n",
        "\n",
        "for i in range(bitfinex_tr_times.shape[0]-1):\n",
        "\n",
        "  start = bitfinex_tr_times[i]\n",
        "  end = bitfinex_tr_times[i+1]\n",
        "  limit = 10000\n",
        "\n",
        "  bitfinex_tr_res = requests.get('https://api-pub.bitfinex.com/v2/trades/tETHBTC/hist',\n",
        "          params = {\n",
        "              \"start\" : start,\n",
        "              \"end\" : end,\n",
        "              \"sort\" : 1,\n",
        "              \"limit\" : limit\n",
        "            \n",
        "      })\n",
        "\n",
        "  bitfinex_trade = bitfinex_tr_res.json()\n",
        "  for j in range(np.array(bitfinex_trade).shape[0]):\n",
        "    bitfinex_tr.append(bitfinex_trade[j])"
      ],
      "execution_count": null,
      "outputs": []
    },
    {
      "cell_type": "code",
      "metadata": {
        "id": "MnuCjU1K5XFU"
      },
      "source": [
        "np.array(bitfinex_tr).dump(open('bitfinex_trade_array.npy', 'wb'))"
      ],
      "execution_count": null,
      "outputs": []
    },
    {
      "cell_type": "markdown",
      "metadata": {
        "id": "P4t839_h5ZYL"
      },
      "source": [
        "**Coinbase**"
      ]
    },
    {
      "cell_type": "code",
      "metadata": {
        "id": "5TCpUUdi5YzG"
      },
      "source": [
        "coinbase_tr_times = [\"2020-12-28T22:52:28\", \"2020-12-29T02:52:28\", \"2020-12-29T06:52:28\",\n",
        "                     \"2020-12-29T10:52:28\", \"2020-12-29T10:55:49\"]\n",
        "\n",
        "coinbase_tr_times = np.array(coinbase_tr_times)\n",
        "\n",
        "coinbase_tr = []\n",
        "start = ''\n",
        "end = ''\n",
        "for i in range(coinbase_tr_times.shape[0]-1):\n",
        "\n",
        "  start = coinbase_tr_times[i]\n",
        "  end = coinbase_tr_times[i+1]\n",
        "  granularity = 60\n",
        "  coinbase_tr_res = requests.get('https://api.pro.coinbase.com/products/ETH-BTC/candles',\n",
        "          params = {\n",
        "              \"granularity\" : granularity,\n",
        "              \"start\" : start,\n",
        "              \"end\" : end\n",
        "      })\n",
        "\n",
        "  coinbase_trade = coinbase_tr_res.json()\n",
        "  for j in range(np.array(coinbase_trade).shape[0]):\n",
        "    coinbase_tr.append(coinbase_trade[j])"
      ],
      "execution_count": null,
      "outputs": []
    },
    {
      "cell_type": "code",
      "metadata": {
        "id": "z0lEDJry5ePm"
      },
      "source": [
        "np.array(coinbase_tr).dump(open('coinbase_trade_array.npy', 'wb'))"
      ],
      "execution_count": null,
      "outputs": []
    }
  ]
}